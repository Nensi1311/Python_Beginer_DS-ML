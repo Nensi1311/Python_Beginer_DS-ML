{
 "cells": [
  {
   "cell_type": "markdown",
   "id": "dc5ea4b4",
   "metadata": {},
   "source": [
    "# OOPs - Object Oriented Programming Style"
   ]
  },
  {
   "cell_type": "code",
   "execution_count": 21,
   "id": "b6659a44",
   "metadata": {},
   "outputs": [],
   "source": [
    "class car:\n",
    "    name = \"Maruto 800\"\n",
    "    color = \"Red\"\n",
    "    age = 2\n",
    "    \n",
    "    def describe(self):\n",
    "        print(\"This is a describe function\")"
   ]
  },
  {
   "cell_type": "code",
   "execution_count": 22,
   "id": "0fcfc947",
   "metadata": {},
   "outputs": [],
   "source": [
    "c1 = car()"
   ]
  },
  {
   "cell_type": "code",
   "execution_count": 23,
   "id": "742a0195",
   "metadata": {},
   "outputs": [
    {
     "data": {
      "text/plain": [
       "<__main__.car at 0x1d70c7c8820>"
      ]
     },
     "execution_count": 23,
     "metadata": {},
     "output_type": "execute_result"
    }
   ],
   "source": [
    "c1"
   ]
  },
  {
   "cell_type": "code",
   "execution_count": 24,
   "id": "1098b52f",
   "metadata": {},
   "outputs": [
    {
     "data": {
      "text/plain": [
       "'Maruto 800'"
      ]
     },
     "execution_count": 24,
     "metadata": {},
     "output_type": "execute_result"
    }
   ],
   "source": [
    "c1.name"
   ]
  },
  {
   "cell_type": "code",
   "execution_count": 25,
   "id": "ea2011af",
   "metadata": {},
   "outputs": [
    {
     "data": {
      "text/plain": [
       "'Red'"
      ]
     },
     "execution_count": 25,
     "metadata": {},
     "output_type": "execute_result"
    }
   ],
   "source": [
    "c1.color"
   ]
  },
  {
   "cell_type": "code",
   "execution_count": 26,
   "id": "d8d22d1f",
   "metadata": {},
   "outputs": [
    {
     "data": {
      "text/plain": [
       "2"
      ]
     },
     "execution_count": 26,
     "metadata": {},
     "output_type": "execute_result"
    }
   ],
   "source": [
    "c1.age"
   ]
  },
  {
   "cell_type": "code",
   "execution_count": 31,
   "id": "f89b5153",
   "metadata": {},
   "outputs": [
    {
     "name": "stdout",
     "output_type": "stream",
     "text": [
      "This is a describe function\n"
     ]
    }
   ],
   "source": [
    "c1.describe()"
   ]
  },
  {
   "cell_type": "code",
   "execution_count": 27,
   "id": "077807ad",
   "metadata": {},
   "outputs": [],
   "source": [
    "c2 = car()\n",
    "c2.name = \"Mercedes\"\n",
    "c2.color = \"Silver\"\n",
    "c2.age = 3\n",
    "c2.fuel = \"Petrol\""
   ]
  },
  {
   "cell_type": "code",
   "execution_count": 28,
   "id": "013adc65",
   "metadata": {},
   "outputs": [
    {
     "data": {
      "text/plain": [
       "<__main__.car at 0x1d70de94760>"
      ]
     },
     "execution_count": 28,
     "metadata": {},
     "output_type": "execute_result"
    }
   ],
   "source": [
    "c2"
   ]
  },
  {
   "cell_type": "code",
   "execution_count": 29,
   "id": "a47ce2b9",
   "metadata": {},
   "outputs": [
    {
     "name": "stdout",
     "output_type": "stream",
     "text": [
      "Mercedes Silver 3 Petrol\n"
     ]
    }
   ],
   "source": [
    "print(c2.name, c2.color, c2.age, c2.fuel)"
   ]
  },
  {
   "cell_type": "code",
   "execution_count": 30,
   "id": "05aff191",
   "metadata": {},
   "outputs": [],
   "source": [
    "class car:\n",
    "    pass"
   ]
  },
  {
   "cell_type": "code",
   "execution_count": 18,
   "id": "93784033",
   "metadata": {},
   "outputs": [],
   "source": [
    "c3 = car()"
   ]
  },
  {
   "cell_type": "code",
   "execution_count": 19,
   "id": "f2caf1f8",
   "metadata": {},
   "outputs": [
    {
     "data": {
      "text/plain": [
       "<__main__.car at 0x1d70c7caad0>"
      ]
     },
     "execution_count": 19,
     "metadata": {},
     "output_type": "execute_result"
    }
   ],
   "source": [
    "c3.name = \"Alto\"\n",
    "c3"
   ]
  },
  {
   "cell_type": "code",
   "execution_count": 32,
   "id": "6834d8d8",
   "metadata": {},
   "outputs": [],
   "source": [
    "class car:\n",
    "    def describe(self):\n",
    "        print(\"car name =\", self.name)\n",
    "        print(\"car color =\", self.color)\n",
    "        print(\"car age =\", self.age)\n",
    "        \n",
    "    def isBanned(self):\n",
    "        if self.age > 15:\n",
    "            return True\n",
    "        else:\n",
    "            return False"
   ]
  },
  {
   "cell_type": "code",
   "execution_count": 33,
   "id": "f407512d",
   "metadata": {},
   "outputs": [],
   "source": [
    "c2 = car()\n",
    "c2.name = \"Mercedes\"\n",
    "c2.color = \"Silver\"\n",
    "c2.age = 3"
   ]
  },
  {
   "cell_type": "code",
   "execution_count": 34,
   "id": "2bd7ff6f",
   "metadata": {},
   "outputs": [
    {
     "name": "stdout",
     "output_type": "stream",
     "text": [
      "car name = Mercedes\n",
      "car color = Silver\n",
      "car age = 3\n"
     ]
    }
   ],
   "source": [
    "c2.describe()"
   ]
  },
  {
   "cell_type": "code",
   "execution_count": 38,
   "id": "ed0973d4",
   "metadata": {},
   "outputs": [],
   "source": [
    "c3 = car()\n",
    "c3.name = \"Mercedes\"\n",
    "c3.color = \"Silver\"\n",
    "c3.age = 20"
   ]
  },
  {
   "cell_type": "code",
   "execution_count": 39,
   "id": "6d0e819e",
   "metadata": {},
   "outputs": [
    {
     "name": "stdout",
     "output_type": "stream",
     "text": [
      "car name = Mercedes\n",
      "car color = Silver\n",
      "car age = 20\n"
     ]
    }
   ],
   "source": [
    "c3.describe()"
   ]
  },
  {
   "cell_type": "code",
   "execution_count": 40,
   "id": "9d7f3802",
   "metadata": {},
   "outputs": [
    {
     "data": {
      "text/plain": [
       "False"
      ]
     },
     "execution_count": 40,
     "metadata": {},
     "output_type": "execute_result"
    }
   ],
   "source": [
    "c2.isBanned()"
   ]
  },
  {
   "cell_type": "code",
   "execution_count": 41,
   "id": "63076703",
   "metadata": {},
   "outputs": [
    {
     "data": {
      "text/plain": [
       "True"
      ]
     },
     "execution_count": 41,
     "metadata": {},
     "output_type": "execute_result"
    }
   ],
   "source": [
    "c3.isBanned()"
   ]
  },
  {
   "cell_type": "markdown",
   "id": "1874ce21",
   "metadata": {},
   "source": [
    "# __init__() Method"
   ]
  },
  {
   "cell_type": "code",
   "execution_count": 3,
   "id": "0087efa2",
   "metadata": {},
   "outputs": [],
   "source": [
    "class car:\n",
    "    def __init__(self, name, color, age):\n",
    "        self.name = name\n",
    "        self.color = color\n",
    "        self.age = age"
   ]
  },
  {
   "cell_type": "code",
   "execution_count": 4,
   "id": "93b32218",
   "metadata": {},
   "outputs": [
    {
     "data": {
      "text/plain": [
       "<__main__.car at 0x1c2df6a57e0>"
      ]
     },
     "execution_count": 4,
     "metadata": {},
     "output_type": "execute_result"
    }
   ],
   "source": [
    "c3 = car(\"abc\", \"xyz\", 3)\n",
    "c3"
   ]
  },
  {
   "cell_type": "code",
   "execution_count": 9,
   "id": "615469dc",
   "metadata": {},
   "outputs": [],
   "source": [
    "class car:\n",
    "    def __init__(self, name=\"abc\", color=\"xyz\", age=2):\n",
    "        self.name = name\n",
    "        self.color = color\n",
    "        self.age = age\n",
    "        \n",
    "    def isBanned(self):\n",
    "        if self.age > 15:\n",
    "            return True\n",
    "        else:\n",
    "            return False    "
   ]
  },
  {
   "cell_type": "code",
   "execution_count": 10,
   "id": "40bc5d85",
   "metadata": {},
   "outputs": [],
   "source": [
    "maruti = car()"
   ]
  },
  {
   "cell_type": "code",
   "execution_count": 11,
   "id": "bd153558",
   "metadata": {},
   "outputs": [
    {
     "data": {
      "text/plain": [
       "'abc'"
      ]
     },
     "execution_count": 11,
     "metadata": {},
     "output_type": "execute_result"
    }
   ],
   "source": [
    "maruti.name"
   ]
  },
  {
   "cell_type": "code",
   "execution_count": 12,
   "id": "1f27270a",
   "metadata": {},
   "outputs": [],
   "source": [
    "car?"
   ]
  },
  {
   "cell_type": "code",
   "execution_count": 13,
   "id": "5fbb05e6",
   "metadata": {},
   "outputs": [
    {
     "data": {
      "text/plain": [
       "False"
      ]
     },
     "execution_count": 13,
     "metadata": {},
     "output_type": "execute_result"
    }
   ],
   "source": [
    "maruti.isBanned()"
   ]
  },
  {
   "cell_type": "code",
   "execution_count": 16,
   "id": "162c131d",
   "metadata": {},
   "outputs": [],
   "source": [
    "class wizard:\n",
    "    def __init__(self, name, age, spell):\n",
    "        self.name = name\n",
    "        self.age = age\n",
    "        self. spell = spell\n",
    "        \n",
    "    def magic(self):\n",
    "        print(\"Cast spell \", self.spell)"
   ]
  },
  {
   "cell_type": "code",
   "execution_count": 17,
   "id": "4632d03f",
   "metadata": {},
   "outputs": [],
   "source": [
    "harry = wizard(\"Harry potter\", 18, \"Expelliarmus\")"
   ]
  },
  {
   "cell_type": "code",
   "execution_count": 18,
   "id": "da675eba",
   "metadata": {},
   "outputs": [
    {
     "name": "stdout",
     "output_type": "stream",
     "text": [
      "Cast spell  Expelliarmus\n"
     ]
    }
   ],
   "source": [
    "harry.magic()"
   ]
  },
  {
   "cell_type": "code",
   "execution_count": 19,
   "id": "76ccab88",
   "metadata": {},
   "outputs": [],
   "source": [
    "voldy = wizard(\"he who must not be named\", 76, \"avada kevavra\")"
   ]
  },
  {
   "cell_type": "code",
   "execution_count": 20,
   "id": "01cfede8",
   "metadata": {},
   "outputs": [
    {
     "name": "stdout",
     "output_type": "stream",
     "text": [
      "Cast spell  avada kevavra\n"
     ]
    }
   ],
   "source": [
    "voldy.magic()"
   ]
  },
  {
   "cell_type": "code",
   "execution_count": 21,
   "id": "2ea0a88b",
   "metadata": {},
   "outputs": [
    {
     "name": "stdout",
     "output_type": "stream",
     "text": [
      "<class 'function'>\n"
     ]
    }
   ],
   "source": [
    "def hello():\n",
    "    print(\"hello world\")\n",
    "print(type(hello))    "
   ]
  },
  {
   "cell_type": "markdown",
   "id": "e9732444",
   "metadata": {},
   "source": [
    "## OOPs Concepts\n",
    "     1. Data  Abstraction\n",
    "     2. Encapsulation\n",
    "     3. Modularity\n",
    "     4. Polymorphism\n",
    "     5. Inheritance"
   ]
  },
  {
   "cell_type": "code",
   "execution_count": 22,
   "id": "73796216",
   "metadata": {},
   "outputs": [
    {
     "data": {
      "text/plain": [
       "['__add__',\n",
       " '__class__',\n",
       " '__class_getitem__',\n",
       " '__contains__',\n",
       " '__delattr__',\n",
       " '__delitem__',\n",
       " '__dir__',\n",
       " '__doc__',\n",
       " '__eq__',\n",
       " '__format__',\n",
       " '__ge__',\n",
       " '__getattribute__',\n",
       " '__getitem__',\n",
       " '__gt__',\n",
       " '__hash__',\n",
       " '__iadd__',\n",
       " '__imul__',\n",
       " '__init__',\n",
       " '__init_subclass__',\n",
       " '__iter__',\n",
       " '__le__',\n",
       " '__len__',\n",
       " '__lt__',\n",
       " '__mul__',\n",
       " '__ne__',\n",
       " '__new__',\n",
       " '__reduce__',\n",
       " '__reduce_ex__',\n",
       " '__repr__',\n",
       " '__reversed__',\n",
       " '__rmul__',\n",
       " '__setattr__',\n",
       " '__setitem__',\n",
       " '__sizeof__',\n",
       " '__str__',\n",
       " '__subclasshook__',\n",
       " 'append',\n",
       " 'clear',\n",
       " 'copy',\n",
       " 'count',\n",
       " 'extend',\n",
       " 'index',\n",
       " 'insert',\n",
       " 'pop',\n",
       " 'remove',\n",
       " 'reverse',\n",
       " 'sort']"
      ]
     },
     "execution_count": 22,
     "metadata": {},
     "output_type": "execute_result"
    }
   ],
   "source": [
    "a = []\n",
    "dir(a)"
   ]
  },
  {
   "cell_type": "code",
   "execution_count": 27,
   "id": "b9b03d23",
   "metadata": {},
   "outputs": [
    {
     "name": "stdout",
     "output_type": "stream",
     "text": [
      "<__main__.car.seat object at 0x000001C2DE00DF60>\n",
      "red\n"
     ]
    }
   ],
   "source": [
    "class car:\n",
    "    class seat:\n",
    "        def __init__(self, color = \"grey\"):\n",
    "            self.color = color\n",
    "        \n",
    "    def __init__(self):\n",
    "        self.color = \"black\"\n",
    "        \n",
    "    def drive(self):\n",
    "        s = self.seat(\"red\")\n",
    "        print(s)\n",
    "        print(s.color)\n",
    "        \n",
    "c = car()\n",
    "c.drive()"
   ]
  },
  {
   "cell_type": "code",
   "execution_count": null,
   "id": "aedb437c",
   "metadata": {},
   "outputs": [],
   "source": []
  },
  {
   "cell_type": "code",
   "execution_count": null,
   "id": "3da4061a",
   "metadata": {},
   "outputs": [],
   "source": []
  }
 ],
 "metadata": {
  "kernelspec": {
   "display_name": "Python 3 (ipykernel)",
   "language": "python",
   "name": "python3"
  },
  "language_info": {
   "codemirror_mode": {
    "name": "ipython",
    "version": 3
   },
   "file_extension": ".py",
   "mimetype": "text/x-python",
   "name": "python",
   "nbconvert_exporter": "python",
   "pygments_lexer": "ipython3",
   "version": "3.10.9"
  }
 },
 "nbformat": 4,
 "nbformat_minor": 5
}
