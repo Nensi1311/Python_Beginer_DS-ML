{
 "cells": [
  {
   "cell_type": "markdown",
   "id": "993302ef",
   "metadata": {},
   "source": [
    "# Sorting\n",
    "\n",
    "### time complexity for both is = O(n logn)\n",
    "### tim sort"
   ]
  },
  {
   "cell_type": "markdown",
   "id": "de4ef3d4",
   "metadata": {},
   "source": [
    "## sort() method"
   ]
  },
  {
   "cell_type": "code",
   "execution_count": 1,
   "id": "ee895b54",
   "metadata": {},
   "outputs": [
    {
     "data": {
      "text/plain": [
       "[1, 4, 5, 8, 9, 15]"
      ]
     },
     "execution_count": 1,
     "metadata": {},
     "output_type": "execute_result"
    }
   ],
   "source": [
    "a  = [4,5,8,1,9,15]\n",
    "a.sort()\n",
    "a"
   ]
  },
  {
   "cell_type": "code",
   "execution_count": 5,
   "id": "7e6c2c09",
   "metadata": {},
   "outputs": [
    {
     "name": "stdout",
     "output_type": "stream",
     "text": [
      "None\n"
     ]
    }
   ],
   "source": [
    "b = a.sort()\n",
    "print(b)"
   ]
  },
  {
   "cell_type": "markdown",
   "id": "c051477d",
   "metadata": {},
   "source": [
    "## sorted"
   ]
  },
  {
   "cell_type": "code",
   "execution_count": 4,
   "id": "00029518",
   "metadata": {},
   "outputs": [
    {
     "name": "stdout",
     "output_type": "stream",
     "text": [
      "[4, 5, 8, 1, 9, 15]\n",
      "[15, 9, 8, 5, 4, 1]\n"
     ]
    }
   ],
   "source": [
    "a  = [4,5,8,1,9,15]\n",
    "b = sorted(a, reverse = True)\n",
    "print(a)\n",
    "print(b)"
   ]
  },
  {
   "cell_type": "markdown",
   "id": "7bf607ad",
   "metadata": {},
   "source": [
    "# Bubble sort\n",
    "\n",
    "## time complexity :- Worst Case, Best Case - O(n^2)"
   ]
  },
  {
   "cell_type": "code",
   "execution_count": 7,
   "id": "00b7d320",
   "metadata": {},
   "outputs": [],
   "source": [
    "a = [4,2,5,10,1,3]\n",
    "n = len(a)"
   ]
  },
  {
   "cell_type": "code",
   "execution_count": 8,
   "id": "32fda17c",
   "metadata": {},
   "outputs": [],
   "source": [
    "for i in range(n):\n",
    "    for j in range(0, n-1):\n",
    "        if a[j] > a[j+1]:\n",
    "            a[j], a[j+1] = a[j+1], a[j]"
   ]
  },
  {
   "cell_type": "code",
   "execution_count": 9,
   "id": "b744885b",
   "metadata": {},
   "outputs": [
    {
     "name": "stdout",
     "output_type": "stream",
     "text": [
      "[1, 2, 3, 4, 5, 10]\n"
     ]
    }
   ],
   "source": [
    "print(a)"
   ]
  },
  {
   "cell_type": "markdown",
   "id": "f463c619",
   "metadata": {},
   "source": [
    "# Searching\n",
    "\n",
    "## Linear Search"
   ]
  },
  {
   "cell_type": "code",
   "execution_count": 10,
   "id": "bd86821a",
   "metadata": {},
   "outputs": [
    {
     "name": "stdout",
     "output_type": "stream",
     "text": [
      "found at index  2\n"
     ]
    }
   ],
   "source": [
    "a = [4,2,5,6,12,7,1,-1]\n",
    "key = 5\n",
    "ans = -1\n",
    "for i in range(len(a)):\n",
    "    if a[i] == key:\n",
    "        ans = i\n",
    "        break\n",
    "if ans == -1:\n",
    "    print(\"not found\")\n",
    "    \n",
    "else:\n",
    "    print(\"found at index \",ans)"
   ]
  },
  {
   "cell_type": "code",
   "execution_count": 12,
   "id": "cf57d3e5",
   "metadata": {},
   "outputs": [
    {
     "name": "stdout",
     "output_type": "stream",
     "text": [
      "found at index  2\n"
     ]
    }
   ],
   "source": [
    "# Time complexity - o(n)\n",
    "\n",
    "ans = -1\n",
    "\n",
    "for i, num in enumerate(a):\n",
    "    if num == key:\n",
    "        ans = i\n",
    "        break\n",
    "        \n",
    "if ans == -1:\n",
    "    print(\"not found\")   \n",
    "else:\n",
    "    print(\"found at index \",ans)"
   ]
  },
  {
   "cell_type": "markdown",
   "id": "5798731a",
   "metadata": {},
   "source": [
    "## Binary Search\n",
    "\n",
    "### Time copmlexity - O(logn)"
   ]
  },
  {
   "cell_type": "code",
   "execution_count": 14,
   "id": "ab59dfbd",
   "metadata": {},
   "outputs": [
    {
     "name": "stdout",
     "output_type": "stream",
     "text": [
      "Found at index :  2\n"
     ]
    }
   ],
   "source": [
    "a = [1,5,7,10,15,20,23]\n",
    "target = 7\n",
    "n = len(a)\n",
    "\n",
    "start = 0\n",
    "end = n-1\n",
    "ans = -1\n",
    "while start <= end:\n",
    "    mid = (start + end)//2\n",
    "    if a[mid] == target:\n",
    "        ans = mid \n",
    "        break\n",
    "        \n",
    "    elif a[mid] > target:\n",
    "        end = mid - 1\n",
    "        \n",
    "    else:\n",
    "        start = mid + 1\n",
    "        \n",
    "print(\"Found at index : \", ans)"
   ]
  },
  {
   "cell_type": "markdown",
   "id": "55f90947",
   "metadata": {},
   "source": [
    "## Duplicate elements - lowerbound, upperbound"
   ]
  },
  {
   "cell_type": "code",
   "execution_count": 15,
   "id": "5ccbf32f",
   "metadata": {},
   "outputs": [
    {
     "name": "stdout",
     "output_type": "stream",
     "text": [
      "Found at index :  1\n"
     ]
    }
   ],
   "source": [
    "a = [1,2,2,2,2,3,3,3,3,4,4]\n",
    "target = 2\n",
    "n = len(a)\n",
    "\n",
    "start = 0\n",
    "end = n-1\n",
    "ans = -1\n",
    "while start <= end:\n",
    "    mid = (start + end)//2\n",
    "    if a[mid] == target:\n",
    "        ans = mid \n",
    "        end = mid -1\n",
    "        \n",
    "    elif a[mid] > target:\n",
    "        end = mid - 1\n",
    "        \n",
    "    else:\n",
    "        start = mid + 1\n",
    "        \n",
    "print(\"Found at index : \", ans)"
   ]
  },
  {
   "cell_type": "code",
   "execution_count": 16,
   "id": "772a546c",
   "metadata": {},
   "outputs": [
    {
     "name": "stdout",
     "output_type": "stream",
     "text": [
      "Found at index :  4\n"
     ]
    }
   ],
   "source": [
    "a = [1,2,2,2,2,3,3,3,3,4,4]\n",
    "target = 2\n",
    "n = len(a)\n",
    "\n",
    "start = 0\n",
    "end = n-1\n",
    "ans = -1\n",
    "while start <= end:\n",
    "    mid = (start + end)//2\n",
    "    if a[mid] == target:\n",
    "        ans = mid \n",
    "        start = mid +1\n",
    "        \n",
    "    elif a[mid] > target:\n",
    "        end = mid - 1\n",
    "        \n",
    "    else:\n",
    "        start = mid + 1\n",
    "        \n",
    "print(\"Found at index : \", ans)"
   ]
  },
  {
   "cell_type": "code",
   "execution_count": null,
   "id": "6e83e08f",
   "metadata": {},
   "outputs": [],
   "source": []
  }
 ],
 "metadata": {
  "kernelspec": {
   "display_name": "Python 3 (ipykernel)",
   "language": "python",
   "name": "python3"
  },
  "language_info": {
   "codemirror_mode": {
    "name": "ipython",
    "version": 3
   },
   "file_extension": ".py",
   "mimetype": "text/x-python",
   "name": "python",
   "nbconvert_exporter": "python",
   "pygments_lexer": "ipython3",
   "version": "3.10.9"
  }
 },
 "nbformat": 4,
 "nbformat_minor": 5
}
