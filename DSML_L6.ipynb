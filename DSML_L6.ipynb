{
 "cells": [
  {
   "cell_type": "markdown",
   "id": "5928175d",
   "metadata": {},
   "source": [
    " <h1> Programming Fundamentals - 1 : Intro to Python"
   ]
  },
  {
   "cell_type": "code",
   "execution_count": 7,
   "id": "d099ead8",
   "metadata": {},
   "outputs": [
    {
     "name": "stdout",
     "output_type": "stream",
     "text": [
      "Hello World\n",
      "Welcome to begginer Python\n"
     ]
    }
   ],
   "source": [
    "print(\"Hello World\")\n",
    "print(\"Welcome to begginer Python\")"
   ]
  },
  {
   "cell_type": "code",
   "execution_count": 8,
   "id": "2b89f5ab",
   "metadata": {},
   "outputs": [
    {
     "name": "stdout",
     "output_type": "stream",
     "text": [
      "Hello World\n",
      "Welcome to begginer Python\n"
     ]
    }
   ],
   "source": [
    "print('Hello World')\n",
    "print('Welcome to begginer Python')"
   ]
  },
  {
   "cell_type": "code",
   "execution_count": 14,
   "id": "9aa576f9",
   "metadata": {},
   "outputs": [
    {
     "name": "stdout",
     "output_type": "stream",
     "text": [
      "Hii 27 !@#$%^&*\n"
     ]
    }
   ],
   "source": [
    "print('Hii 27 !@#$%^&*')"
   ]
  },
  {
   "cell_type": "code",
   "execution_count": 1,
   "id": "b857496e",
   "metadata": {},
   "outputs": [
    {
     "name": "stdout",
     "output_type": "stream",
     "text": [
      "10\n"
     ]
    }
   ],
   "source": [
    "print(10)"
   ]
  },
  {
   "cell_type": "code",
   "execution_count": 3,
   "id": "81db5ed2",
   "metadata": {},
   "outputs": [
    {
     "name": "stdout",
     "output_type": "stream",
     "text": [
      "7\n"
     ]
    }
   ],
   "source": [
    "print(5 + 2)"
   ]
  },
  {
   "cell_type": "code",
   "execution_count": 3,
   "id": "781375b1",
   "metadata": {},
   "outputs": [
    {
     "name": "stdout",
     "output_type": "stream",
     "text": [
      "8.3\n"
     ]
    }
   ],
   "source": [
    "print(2.4 + 5.9)"
   ]
  },
  {
   "cell_type": "code",
   "execution_count": 4,
   "id": "e456d323",
   "metadata": {},
   "outputs": [
    {
     "name": "stdout",
     "output_type": "stream",
     "text": [
      "14\n"
     ]
    }
   ],
   "source": [
    "print(10 - 2 + 6)"
   ]
  },
  {
   "cell_type": "code",
   "execution_count": 5,
   "id": "aa929994",
   "metadata": {},
   "outputs": [
    {
     "name": "stdout",
     "output_type": "stream",
     "text": [
      "398457982374598136467857300951355235236504355456904\n"
     ]
    }
   ],
   "source": [
    "print(8943751089374589364895619845918 + 398457982374598136458913549861980645871608735610986)"
   ]
  },
  {
   "cell_type": "code",
   "execution_count": 6,
   "id": "4f191bff",
   "metadata": {},
   "outputs": [
    {
     "name": "stdout",
     "output_type": "stream",
     "text": [
      "25\n"
     ]
    }
   ],
   "source": [
    "print(5 * 5)"
   ]
  },
  {
   "cell_type": "code",
   "execution_count": 9,
   "id": "bf7096af",
   "metadata": {},
   "outputs": [
    {
     "name": "stdout",
     "output_type": "stream",
     "text": [
      "5\n"
     ]
    }
   ],
   "source": [
    "print(10 - 5)"
   ]
  },
  {
   "cell_type": "code",
   "execution_count": 12,
   "id": "bb122a3a",
   "metadata": {},
   "outputs": [
    {
     "name": "stdout",
     "output_type": "stream",
     "text": [
      "1.5\n"
     ]
    }
   ],
   "source": [
    "print(3/2)"
   ]
  },
  {
   "cell_type": "code",
   "execution_count": 13,
   "id": "6c4fa09b",
   "metadata": {},
   "outputs": [
    {
     "name": "stdout",
     "output_type": "stream",
     "text": [
      "1\n"
     ]
    }
   ],
   "source": [
    "print(3//2)"
   ]
  },
  {
   "cell_type": "code",
   "execution_count": 6,
   "id": "20c0eb9d",
   "metadata": {},
   "outputs": [
    {
     "data": {
      "text/plain": [
       "7"
      ]
     },
     "execution_count": 6,
     "metadata": {},
     "output_type": "execute_result"
    }
   ],
   "source": [
    "5+2"
   ]
  },
  {
   "cell_type": "code",
   "execution_count": 15,
   "id": "65de91f8",
   "metadata": {},
   "outputs": [
    {
     "name": "stdout",
     "output_type": "stream",
     "text": [
      "10+10\n"
     ]
    }
   ],
   "source": [
    "print('10+10')"
   ]
  },
  {
   "cell_type": "code",
   "execution_count": 16,
   "id": "c285e334",
   "metadata": {},
   "outputs": [
    {
     "ename": "NameError",
     "evalue": "name 'Print' is not defined",
     "output_type": "error",
     "traceback": [
      "\u001b[1;31m---------------------------------------------------------------------------\u001b[0m",
      "\u001b[1;31mNameError\u001b[0m                                 Traceback (most recent call last)",
      "Cell \u001b[1;32mIn[16], line 1\u001b[0m\n\u001b[1;32m----> 1\u001b[0m \u001b[43mPrint\u001b[49m(\u001b[38;5;124m'\u001b[39m\u001b[38;5;124m10+10\u001b[39m\u001b[38;5;124m'\u001b[39m)\n",
      "\u001b[1;31mNameError\u001b[0m: name 'Print' is not defined"
     ]
    }
   ],
   "source": [
    "# Capital P does not work\n",
    "Print('10+10')"
   ]
  },
  {
   "cell_type": "code",
   "execution_count": 18,
   "id": "23aff06a",
   "metadata": {},
   "outputs": [
    {
     "name": "stdout",
     "output_type": "stream",
     "text": [
      "It's a nice day\n"
     ]
    }
   ],
   "source": [
    "# Escape character\n",
    "print('It\\'s a nice day')"
   ]
  },
  {
   "cell_type": "code",
   "execution_count": 19,
   "id": "2ca41ff2",
   "metadata": {},
   "outputs": [
    {
     "name": "stdout",
     "output_type": "stream",
     "text": [
      "Hello \\ World\n"
     ]
    }
   ],
   "source": [
    "# \\\\ to print \\\n",
    "print(\"Hello \\\\ World\")"
   ]
  },
  {
   "cell_type": "markdown",
   "id": "4d5ae85f",
   "metadata": {},
   "source": [
    "<h2> Example - Simple Interest   "
   ]
  },
  {
   "cell_type": "code",
   "execution_count": 7,
   "id": "bff8a8fe",
   "metadata": {},
   "outputs": [],
   "source": [
    "p = 100\n",
    "r = 5\n",
    "t = 2"
   ]
  },
  {
   "cell_type": "code",
   "execution_count": 8,
   "id": "36643413",
   "metadata": {},
   "outputs": [
    {
     "name": "stdout",
     "output_type": "stream",
     "text": [
      "Simple Interest is :  10.0\n"
     ]
    }
   ],
   "source": [
    "si = (p*r*t)/100\n",
    "print(\"Simple Interest is : \",si)"
   ]
  },
  {
   "cell_type": "markdown",
   "id": "91f1cd95",
   "metadata": {},
   "source": [
    "<h2> Input\n",
    "<h3>Take the name of the user as input. And say hello to them"
   ]
  },
  {
   "cell_type": "code",
   "execution_count": 10,
   "id": "07110e8b",
   "metadata": {},
   "outputs": [
    {
     "name": "stdout",
     "output_type": "stream",
     "text": [
      "Nensi Pansuriya\n"
     ]
    }
   ],
   "source": [
    "name = input()"
   ]
  },
  {
   "cell_type": "code",
   "execution_count": 11,
   "id": "e18ed2f7",
   "metadata": {},
   "outputs": [
    {
     "name": "stdout",
     "output_type": "stream",
     "text": [
      "Hello Nensi Pansuriya\n"
     ]
    }
   ],
   "source": [
    "print(\"Hello\", name)"
   ]
  },
  {
   "cell_type": "code",
   "execution_count": 12,
   "id": "b6f51ef2",
   "metadata": {},
   "outputs": [
    {
     "name": "stdout",
     "output_type": "stream",
     "text": [
      "Nensi\n",
      "Hello Nensi\n"
     ]
    }
   ],
   "source": [
    "print(\"Hello\", input())"
   ]
  },
  {
   "cell_type": "code",
   "execution_count": 13,
   "id": "9be15af4",
   "metadata": {},
   "outputs": [
    {
     "name": "stdout",
     "output_type": "stream",
     "text": [
      "Hello's\n"
     ]
    }
   ],
   "source": [
    "print(\"Hello\\'s\")"
   ]
  },
  {
   "cell_type": "markdown",
   "id": "5ddbe894",
   "metadata": {},
   "source": [
    "<h2> Comments\n",
    "  <h4>  \n",
    "-> Comments are the statements that are written inside the code but they are ignored by the interpreter. These are written to make the code understable and readable.\n",
    "\n",
    "      \n",
    "    \n",
    "    \n",
    "-> Comments start with #\n",
    "    \n",
    "    \n"
   ]
  },
  {
   "cell_type": "code",
   "execution_count": 16,
   "id": "7dd88675",
   "metadata": {},
   "outputs": [
    {
     "name": "stdout",
     "output_type": "stream",
     "text": [
      "Good evening\n",
      "Hello\n"
     ]
    }
   ],
   "source": [
    "print(\"Good evening\")\n",
    "# This is a good evening statements\n",
    "print(\"Hello\")"
   ]
  },
  {
   "cell_type": "markdown",
   "id": "bc574e82",
   "metadata": {},
   "source": [
    "<h2> Data Types"
   ]
  },
  {
   "cell_type": "markdown",
   "id": "bed3e94e",
   "metadata": {},
   "source": [
    "<h3> Integer - int <br> Floating point numbers - float <br> Strings - str <br> Boolean Type - bool <br> NoneType"
   ]
  },
  {
   "cell_type": "code",
   "execution_count": 17,
   "id": "e1a713b9",
   "metadata": {},
   "outputs": [],
   "source": [
    "a = 100"
   ]
  },
  {
   "cell_type": "code",
   "execution_count": 18,
   "id": "ee194ec1",
   "metadata": {},
   "outputs": [
    {
     "name": "stdout",
     "output_type": "stream",
     "text": [
      "<class 'int'>\n"
     ]
    }
   ],
   "source": [
    "print(type(a))"
   ]
  },
  {
   "cell_type": "code",
   "execution_count": 19,
   "id": "6d1e9fd4",
   "metadata": {},
   "outputs": [],
   "source": [
    "b = 10.987654"
   ]
  },
  {
   "cell_type": "code",
   "execution_count": 20,
   "id": "146eb52e",
   "metadata": {},
   "outputs": [
    {
     "name": "stdout",
     "output_type": "stream",
     "text": [
      "<class 'float'>\n"
     ]
    }
   ],
   "source": [
    "print(type(b))"
   ]
  },
  {
   "cell_type": "code",
   "execution_count": 21,
   "id": "4bfe4977",
   "metadata": {},
   "outputs": [],
   "source": [
    "c = \"Hello\""
   ]
  },
  {
   "cell_type": "code",
   "execution_count": 22,
   "id": "2fe2e89e",
   "metadata": {},
   "outputs": [
    {
     "name": "stdout",
     "output_type": "stream",
     "text": [
      "<class 'str'>\n"
     ]
    }
   ],
   "source": [
    "print(type(c))"
   ]
  },
  {
   "cell_type": "code",
   "execution_count": 23,
   "id": "680384d0",
   "metadata": {},
   "outputs": [],
   "source": [
    "d ='N'"
   ]
  },
  {
   "cell_type": "code",
   "execution_count": 24,
   "id": "21777f74",
   "metadata": {},
   "outputs": [
    {
     "name": "stdout",
     "output_type": "stream",
     "text": [
      "<class 'str'>\n"
     ]
    }
   ],
   "source": [
    "print(type(d))"
   ]
  },
  {
   "cell_type": "code",
   "execution_count": 1,
   "id": "d24b1de4",
   "metadata": {},
   "outputs": [
    {
     "name": "stdout",
     "output_type": "stream",
     "text": [
      "0.2\n"
     ]
    }
   ],
   "source": [
    "print(.2)"
   ]
  },
  {
   "cell_type": "code",
   "execution_count": 2,
   "id": "77ca4da0",
   "metadata": {},
   "outputs": [
    {
     "name": "stdout",
     "output_type": "stream",
     "text": [
      "<class 'float'>\n"
     ]
    }
   ],
   "source": [
    "x = .2\n",
    "print(type(x))"
   ]
  },
  {
   "cell_type": "code",
   "execution_count": 27,
   "id": "83034bbb",
   "metadata": {},
   "outputs": [],
   "source": [
    "e = True\n",
    "f = False"
   ]
  },
  {
   "cell_type": "code",
   "execution_count": 28,
   "id": "0d388acd",
   "metadata": {},
   "outputs": [
    {
     "name": "stdout",
     "output_type": "stream",
     "text": [
      "<class 'bool'>\n",
      "<class 'bool'>\n"
     ]
    }
   ],
   "source": [
    "print(type(e))\n",
    "print(type(f))"
   ]
  },
  {
   "cell_type": "code",
   "execution_count": 29,
   "id": "6e6f9f48",
   "metadata": {},
   "outputs": [
    {
     "name": "stdout",
     "output_type": "stream",
     "text": [
      "True False\n"
     ]
    }
   ],
   "source": [
    "print(e,f)"
   ]
  },
  {
   "cell_type": "code",
   "execution_count": 31,
   "id": "c9c0f713",
   "metadata": {},
   "outputs": [],
   "source": [
    "g = None\n",
    "# denotes NULL value"
   ]
  },
  {
   "cell_type": "code",
   "execution_count": 32,
   "id": "8a19e92f",
   "metadata": {},
   "outputs": [
    {
     "name": "stdout",
     "output_type": "stream",
     "text": [
      "<class 'NoneType'>\n"
     ]
    }
   ],
   "source": [
    "print(type(g))"
   ]
  },
  {
   "cell_type": "markdown",
   "id": "951215b1",
   "metadata": {},
   "source": [
    "# <h2> Declaration of Variable\n",
    "#  <h4> \n",
    "    1. The variable name should either begin with an Uppercase(A to Z) or Lowercase(a to z) character or an underscore(_).\n",
    "    \n",
    "    2. One should always remember to use a meaningful name for variables in Python. For example – no_of_chocolates makes more sense than noc.\n",
    "    \n",
    "    3.  If a variable has multiple words, it is advised to separate them with an underscore.\n",
    "    \n",
    "    4. One should ensure that a variable name should not be similar to keywords of the programming language.\n",
    "    \n",
    "    5. One should also remember that even variable names are case-sensitive.\n",
    "    \n",
    "    6. A variable should not begin with a digit or contain any white spaces or special characters such as #,@,&.\n",
    "    \n",
    "    7. No limit on variable name length\n",
    "    \n",
    "    8. Cannot assign to True, False and None \n",
    "    \n",
    "    9. Variable name can only contain alphanumeric characters and underscore\n",
    "    \n",
    "    10. Cannot assign to operator\n",
    "    \n",
    "    11. Variable names must start with a letter it can't start with a digit\n",
    "    \n",
    "    12. Special characters (except underscore) are not allowed\n",
    "   "
   ]
  },
  {
   "cell_type": "code",
   "execution_count": 35,
   "id": "f8eeac2f",
   "metadata": {},
   "outputs": [],
   "source": [
    "# variable name must always begin with a character \n",
    "# variables name are case sensitive\n",
    "# special characters are not allowed in naming variables (underscore is an exceptio)\n",
    "name1\n",
    "name-1 # not allowed"
   ]
  },
  {
   "cell_type": "code",
   "execution_count": 36,
   "id": "0c5aaf03",
   "metadata": {},
   "outputs": [],
   "source": [
    "_name = 10"
   ]
  },
  {
   "cell_type": "code",
   "execution_count": 37,
   "id": "cfaf5ac4",
   "metadata": {},
   "outputs": [
    {
     "name": "stdout",
     "output_type": "stream",
     "text": [
      "10\n"
     ]
    }
   ],
   "source": [
    "print(_name)"
   ]
  },
  {
   "cell_type": "markdown",
   "id": "9374d75e",
   "metadata": {},
   "source": [
    "<h2> Typecasting"
   ]
  },
  {
   "cell_type": "code",
   "execution_count": 38,
   "id": "9ce1bbae",
   "metadata": {},
   "outputs": [],
   "source": [
    "f = 7.4"
   ]
  },
  {
   "cell_type": "code",
   "execution_count": 40,
   "id": "b40d7286",
   "metadata": {},
   "outputs": [
    {
     "name": "stdout",
     "output_type": "stream",
     "text": [
      "7\n"
     ]
    }
   ],
   "source": [
    "i = int(f)\n",
    "print(i)"
   ]
  },
  {
   "cell_type": "code",
   "execution_count": 41,
   "id": "c4b47b22",
   "metadata": {},
   "outputs": [
    {
     "name": "stdout",
     "output_type": "stream",
     "text": [
      "10\n"
     ]
    }
   ],
   "source": [
    "i2 = int(10.9)\n",
    "print(i2)"
   ]
  },
  {
   "cell_type": "code",
   "execution_count": 42,
   "id": "81171bde",
   "metadata": {},
   "outputs": [
    {
     "name": "stdout",
     "output_type": "stream",
     "text": [
      "-5\n"
     ]
    }
   ],
   "source": [
    "i3 = int(-5.8)\n",
    "print(i3)"
   ]
  },
  {
   "cell_type": "code",
   "execution_count": 43,
   "id": "82e6cd0a",
   "metadata": {},
   "outputs": [
    {
     "name": "stdout",
     "output_type": "stream",
     "text": [
      "<class 'int'>\n"
     ]
    }
   ],
   "source": [
    "print(type(i))"
   ]
  },
  {
   "cell_type": "code",
   "execution_count": 44,
   "id": "1e20526b",
   "metadata": {},
   "outputs": [
    {
     "name": "stdout",
     "output_type": "stream",
     "text": [
      "7\n"
     ]
    }
   ],
   "source": [
    "x = int(7.91)\n",
    "print(x)"
   ]
  },
  {
   "cell_type": "code",
   "execution_count": 45,
   "id": "01ae30ae",
   "metadata": {},
   "outputs": [],
   "source": [
    "a = 10\n",
    "b = float(a)"
   ]
  },
  {
   "cell_type": "code",
   "execution_count": 47,
   "id": "d23e41d6",
   "metadata": {},
   "outputs": [
    {
     "name": "stdout",
     "output_type": "stream",
     "text": [
      "10.0\n",
      "<class 'float'>\n"
     ]
    }
   ],
   "source": [
    "print(b)\n",
    "print(type(b))"
   ]
  },
  {
   "cell_type": "markdown",
   "id": "a659b59b",
   "metadata": {},
   "source": [
    "<h2> String to int"
   ]
  },
  {
   "cell_type": "code",
   "execution_count": 49,
   "id": "f113b316",
   "metadata": {},
   "outputs": [],
   "source": [
    "i = int(\"537\")"
   ]
  },
  {
   "cell_type": "code",
   "execution_count": 51,
   "id": "d0612cc8",
   "metadata": {},
   "outputs": [
    {
     "name": "stdout",
     "output_type": "stream",
     "text": [
      "537 <class 'int'>\n"
     ]
    }
   ],
   "source": [
    "print(i, type(i))"
   ]
  },
  {
   "cell_type": "code",
   "execution_count": 54,
   "id": "62862310",
   "metadata": {},
   "outputs": [
    {
     "ename": "ValueError",
     "evalue": "invalid literal for int() with base 10: 'abc'",
     "output_type": "error",
     "traceback": [
      "\u001b[1;31m---------------------------------------------------------------------------\u001b[0m",
      "\u001b[1;31mValueError\u001b[0m                                Traceback (most recent call last)",
      "Cell \u001b[1;32mIn[54], line 1\u001b[0m\n\u001b[1;32m----> 1\u001b[0m i2 \u001b[38;5;241m=\u001b[39m \u001b[38;5;28;43mint\u001b[39;49m\u001b[43m(\u001b[49m\u001b[38;5;124;43m\"\u001b[39;49m\u001b[38;5;124;43mabc\u001b[39;49m\u001b[38;5;124;43m\"\u001b[39;49m\u001b[43m)\u001b[49m\n",
      "\u001b[1;31mValueError\u001b[0m: invalid literal for int() with base 10: 'abc'"
     ]
    }
   ],
   "source": [
    "i2 = int(\"abc\")"
   ]
  },
  {
   "cell_type": "markdown",
   "id": "0d40ebac",
   "metadata": {},
   "source": [
    "<h2> Convert int to string"
   ]
  },
  {
   "cell_type": "code",
   "execution_count": 57,
   "id": "b2dcb680",
   "metadata": {},
   "outputs": [
    {
     "name": "stdout",
     "output_type": "stream",
     "text": [
      "1.2\n"
     ]
    }
   ],
   "source": [
    "x = 1.2\n",
    "b = str(x)\n",
    "print(b)"
   ]
  },
  {
   "cell_type": "markdown",
   "id": "6e0cd44e",
   "metadata": {},
   "source": [
    "<h2> Convert float to str"
   ]
  },
  {
   "cell_type": "code",
   "execution_count": 58,
   "id": "53e34853",
   "metadata": {},
   "outputs": [],
   "source": [
    "s2 = str(8.2384)"
   ]
  },
  {
   "cell_type": "code",
   "execution_count": 59,
   "id": "778901a6",
   "metadata": {},
   "outputs": [
    {
     "data": {
      "text/plain": [
       "'8.2384'"
      ]
     },
     "execution_count": 59,
     "metadata": {},
     "output_type": "execute_result"
    }
   ],
   "source": [
    "s2"
   ]
  },
  {
   "cell_type": "markdown",
   "id": "065ba7f0",
   "metadata": {},
   "source": [
    "<h3> Python doesn't have any range on its numbers"
   ]
  },
  {
   "cell_type": "markdown",
   "id": "162d66d3",
   "metadata": {},
   "source": [
    "<h2> Operators\n",
    "<h4>\n",
    "   \n",
    "    Addition +\n",
    "    \n",
    "    Subtraction -\n",
    "    \n",
    "    Multiplication *\n",
    "    \n",
    "    Division / (Always gets float result)\n",
    "    \n",
    "    Floor Division // (Always gets int result)\n",
    "    \n",
    "    Exponent ** (Power)\n",
    "    \n",
    "    Modulo % (Reminder)\n",
    "    "
   ]
  },
  {
   "cell_type": "code",
   "execution_count": 60,
   "id": "84a88436",
   "metadata": {},
   "outputs": [
    {
     "data": {
      "text/plain": [
       "7"
      ]
     },
     "execution_count": 60,
     "metadata": {},
     "output_type": "execute_result"
    }
   ],
   "source": [
    "a = 5 +2\n",
    "a"
   ]
  },
  {
   "cell_type": "code",
   "execution_count": 61,
   "id": "f4773462",
   "metadata": {},
   "outputs": [
    {
     "data": {
      "text/plain": [
       "3"
      ]
     },
     "execution_count": 61,
     "metadata": {},
     "output_type": "execute_result"
    }
   ],
   "source": [
    "a = 5-2\n",
    "a"
   ]
  },
  {
   "cell_type": "code",
   "execution_count": 62,
   "id": "ee118643",
   "metadata": {},
   "outputs": [
    {
     "data": {
      "text/plain": [
       "10"
      ]
     },
     "execution_count": 62,
     "metadata": {},
     "output_type": "execute_result"
    }
   ],
   "source": [
    "a = 5*2\n",
    "a"
   ]
  },
  {
   "cell_type": "code",
   "execution_count": 63,
   "id": "affc30c0",
   "metadata": {},
   "outputs": [
    {
     "data": {
      "text/plain": [
       "2.5"
      ]
     },
     "execution_count": 63,
     "metadata": {},
     "output_type": "execute_result"
    }
   ],
   "source": [
    "a = 5/2\n",
    "a"
   ]
  },
  {
   "cell_type": "code",
   "execution_count": 64,
   "id": "be233402",
   "metadata": {},
   "outputs": [
    {
     "data": {
      "text/plain": [
       "25"
      ]
     },
     "execution_count": 64,
     "metadata": {},
     "output_type": "execute_result"
    }
   ],
   "source": [
    "a = 5**2\n",
    "a"
   ]
  },
  {
   "cell_type": "code",
   "execution_count": 65,
   "id": "f6ee93ab",
   "metadata": {},
   "outputs": [
    {
     "data": {
      "text/plain": [
       "1"
      ]
     },
     "execution_count": 65,
     "metadata": {},
     "output_type": "execute_result"
    }
   ],
   "source": [
    "a = 5%2\n",
    "a"
   ]
  },
  {
   "cell_type": "code",
   "execution_count": 66,
   "id": "7addc05b",
   "metadata": {},
   "outputs": [
    {
     "data": {
      "text/plain": [
       "2.5"
      ]
     },
     "execution_count": 66,
     "metadata": {},
     "output_type": "execute_result"
    }
   ],
   "source": [
    "a = 5/2\n",
    "a"
   ]
  },
  {
   "cell_type": "code",
   "execution_count": 67,
   "id": "8d386d47",
   "metadata": {},
   "outputs": [
    {
     "data": {
      "text/plain": [
       "2"
      ]
     },
     "execution_count": 67,
     "metadata": {},
     "output_type": "execute_result"
    }
   ],
   "source": [
    "2 or 2.5"
   ]
  },
  {
   "cell_type": "code",
   "execution_count": 68,
   "id": "f1f2978d",
   "metadata": {},
   "outputs": [
    {
     "data": {
      "text/plain": [
       "2"
      ]
     },
     "execution_count": 68,
     "metadata": {},
     "output_type": "execute_result"
    }
   ],
   "source": [
    "a = 5//2\n",
    "a"
   ]
  },
  {
   "cell_type": "code",
   "execution_count": 69,
   "id": "6daab942",
   "metadata": {},
   "outputs": [
    {
     "data": {
      "text/plain": [
       "3.1622776601683795"
      ]
     },
     "execution_count": 69,
     "metadata": {},
     "output_type": "execute_result"
    }
   ],
   "source": [
    "10 ** (1/2)"
   ]
  },
  {
   "cell_type": "markdown",
   "id": "31e00282",
   "metadata": {},
   "source": [
    "# <h2> Operator Predence Rules\n",
    "\n",
    "B - Brackets\n",
    "        \n",
    "E - Exponentiation\n",
    "        \n",
    "D - Division (both divisions)\n",
    "        \n",
    "M - Multiplication, Modulo\n",
    "        \n",
    "A - Addition\n",
    "        \n",
    "S - Subtraction\n",
    "    \n",
    " In case there are two operations with the same precedence in an expression, they are evaluated left-to-right    "
   ]
  },
  {
   "cell_type": "code",
   "execution_count": 5,
   "id": "2d79ec64",
   "metadata": {},
   "outputs": [
    {
     "name": "stdout",
     "output_type": "stream",
     "text": [
      "4.0\n"
     ]
    }
   ],
   "source": [
    "print(10 - 4 * 2 + 5 - 6 / 2)"
   ]
  },
  {
   "cell_type": "markdown",
   "id": "6ef68265",
   "metadata": {},
   "source": [
    "# <h2> Relational Operators\n",
    "    <\n",
    "    >\n",
    "    <=\n",
    "    >=\n",
    "    ==\n",
    "    !="
   ]
  },
  {
   "cell_type": "code",
   "execution_count": 6,
   "id": "19799393",
   "metadata": {},
   "outputs": [
    {
     "name": "stdout",
     "output_type": "stream",
     "text": [
      "False\n"
     ]
    }
   ],
   "source": [
    "print(1>2)"
   ]
  },
  {
   "cell_type": "code",
   "execution_count": 7,
   "id": "7053152f",
   "metadata": {},
   "outputs": [
    {
     "name": "stdout",
     "output_type": "stream",
     "text": [
      "True\n"
     ]
    }
   ],
   "source": [
    "print(1<2)"
   ]
  },
  {
   "cell_type": "code",
   "execution_count": 9,
   "id": "960e9f0b",
   "metadata": {},
   "outputs": [
    {
     "name": "stdout",
     "output_type": "stream",
     "text": [
      "True\n"
     ]
    }
   ],
   "source": [
    "print(10<=10)"
   ]
  },
  {
   "cell_type": "code",
   "execution_count": 10,
   "id": "3f489ae0",
   "metadata": {},
   "outputs": [
    {
     "name": "stdout",
     "output_type": "stream",
     "text": [
      "True\n"
     ]
    }
   ],
   "source": [
    "print(1==1.0)"
   ]
  },
  {
   "cell_type": "code",
   "execution_count": 11,
   "id": "76400de3",
   "metadata": {},
   "outputs": [
    {
     "name": "stdout",
     "output_type": "stream",
     "text": [
      "True\n"
     ]
    }
   ],
   "source": [
    "print(5!=10)"
   ]
  },
  {
   "cell_type": "code",
   "execution_count": 3,
   "id": "7c33a968",
   "metadata": {},
   "outputs": [
    {
     "data": {
      "text/plain": [
       "['False',\n",
       " 'None',\n",
       " 'True',\n",
       " 'and',\n",
       " 'as',\n",
       " 'assert',\n",
       " 'async',\n",
       " 'await',\n",
       " 'break',\n",
       " 'class',\n",
       " 'continue',\n",
       " 'def',\n",
       " 'del',\n",
       " 'elif',\n",
       " 'else',\n",
       " 'except',\n",
       " 'finally',\n",
       " 'for',\n",
       " 'from',\n",
       " 'global',\n",
       " 'if',\n",
       " 'import',\n",
       " 'in',\n",
       " 'is',\n",
       " 'lambda',\n",
       " 'nonlocal',\n",
       " 'not',\n",
       " 'or',\n",
       " 'pass',\n",
       " 'raise',\n",
       " 'return',\n",
       " 'try',\n",
       " 'while',\n",
       " 'with',\n",
       " 'yield']"
      ]
     },
     "execution_count": 3,
     "metadata": {},
     "output_type": "execute_result"
    }
   ],
   "source": [
    "import keyword\n",
    "keyword.kwlist"
   ]
  },
  {
   "cell_type": "code",
   "execution_count": null,
   "id": "c6a75179",
   "metadata": {},
   "outputs": [],
   "source": []
  }
 ],
 "metadata": {
  "kernelspec": {
   "display_name": "Python 3 (ipykernel)",
   "language": "python",
   "name": "python3"
  },
  "language_info": {
   "codemirror_mode": {
    "name": "ipython",
    "version": 3
   },
   "file_extension": ".py",
   "mimetype": "text/x-python",
   "name": "python",
   "nbconvert_exporter": "python",
   "pygments_lexer": "ipython3",
   "version": "3.10.9"
  }
 },
 "nbformat": 4,
 "nbformat_minor": 5
}
