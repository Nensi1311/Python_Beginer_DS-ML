{
 "cells": [
  {
   "cell_type": "markdown",
   "id": "88023ff9",
   "metadata": {},
   "source": [
    "# Function - kwargs"
   ]
  },
  {
   "cell_type": "markdown",
   "id": "182b5bf2",
   "metadata": {},
   "source": [
    "## keyword arguments"
   ]
  },
  {
   "cell_type": "code",
   "execution_count": 1,
   "id": "285e3951",
   "metadata": {},
   "outputs": [],
   "source": [
    "def person(name, age, profession,**kwargs):\n",
    "    print(name, age, profession)\n",
    "    print(kwargs)\n",
    "    print(type(kwargs))"
   ]
  },
  {
   "cell_type": "code",
   "execution_count": 2,
   "id": "8e4e3b8f",
   "metadata": {},
   "outputs": [
    {
     "name": "stdout",
     "output_type": "stream",
     "text": [
      "Nensi 19 Student\n",
      "{'city': 'surat'}\n",
      "<class 'dict'>\n"
     ]
    }
   ],
   "source": [
    "person(\"Nensi\", 19, \"Student\", city= \"surat\")"
   ]
  },
  {
   "cell_type": "code",
   "execution_count": 3,
   "id": "1f3d6b35",
   "metadata": {},
   "outputs": [],
   "source": [
    "def hogwarts(h1, h2, h3, h4, *args, **kwargs):\n",
    "    print(\"House are :\", h1, h2, h3, h4)\n",
    "    print()\n",
    "    print(\"Args :\", args)\n",
    "    print()\n",
    "    print(\"Kwargs :\", kwargs)"
   ]
  },
  {
   "cell_type": "code",
   "execution_count": 4,
   "id": "76fc53a4",
   "metadata": {},
   "outputs": [
    {
     "name": "stdout",
     "output_type": "stream",
     "text": [
      "House are : abc pqr mnp xyz\n",
      "\n",
      "Args : ('ily', 'imu', 'ihu')\n",
      "\n",
      "Kwargs : {'headmaster': 'abc'}\n"
     ]
    }
   ],
   "source": [
    "hogwarts(\"abc\", \"pqr\", \"mnp\", \"xyz\", \"ily\", \"imu\", \"ihu\", headmaster = \"abc\")"
   ]
  },
  {
   "cell_type": "markdown",
   "id": "f04a55e6",
   "metadata": {},
   "source": [
    "# Strings\n",
    "\n",
    "### Python strings are immutable"
   ]
  },
  {
   "cell_type": "markdown",
   "id": "027279af",
   "metadata": {},
   "source": [
    "## Initialisation and Indexing"
   ]
  },
  {
   "cell_type": "code",
   "execution_count": 5,
   "id": "7efe20be",
   "metadata": {},
   "outputs": [],
   "source": [
    "books = '''\n",
    "i am nensi\n",
    "aiml student\n",
    "'''"
   ]
  },
  {
   "cell_type": "code",
   "execution_count": 6,
   "id": "79912e8f",
   "metadata": {},
   "outputs": [
    {
     "name": "stdout",
     "output_type": "stream",
     "text": [
      "\n",
      "i am nensi\n",
      "aiml student\n",
      "\n"
     ]
    }
   ],
   "source": [
    "print(books)"
   ]
  },
  {
   "cell_type": "code",
   "execution_count": 7,
   "id": "34d08c23",
   "metadata": {},
   "outputs": [
    {
     "data": {
      "text/plain": [
       "' '"
      ]
     },
     "execution_count": 7,
     "metadata": {},
     "output_type": "execute_result"
    }
   ],
   "source": [
    "book = 'harry potter and the half blood prince'\n",
    "book[5]"
   ]
  },
  {
   "cell_type": "code",
   "execution_count": 8,
   "id": "a1a79b2e",
   "metadata": {},
   "outputs": [
    {
     "data": {
      "text/plain": [
       "38"
      ]
     },
     "execution_count": 8,
     "metadata": {},
     "output_type": "execute_result"
    }
   ],
   "source": [
    "len(book)"
   ]
  },
  {
   "cell_type": "code",
   "execution_count": 9,
   "id": "11cbd2d2",
   "metadata": {},
   "outputs": [
    {
     "data": {
      "text/plain": [
       "'hello world'"
      ]
     },
     "execution_count": 9,
     "metadata": {},
     "output_type": "execute_result"
    }
   ],
   "source": [
    "s = \"hello\"\n",
    "s = \"hello world\"\n",
    "s"
   ]
  },
  {
   "cell_type": "markdown",
   "id": "9e7275d4",
   "metadata": {},
   "source": [
    "## Concatentation : +"
   ]
  },
  {
   "cell_type": "code",
   "execution_count": 10,
   "id": "08539d57",
   "metadata": {},
   "outputs": [
    {
     "data": {
      "text/plain": [
       "'hello world 2'"
      ]
     },
     "execution_count": 10,
     "metadata": {},
     "output_type": "execute_result"
    }
   ],
   "source": [
    "h1 = \"hello\"\n",
    "h2 = \" world \"\n",
    "\n",
    "h3= h1 + h2 + str(2)\n",
    "h3"
   ]
  },
  {
   "cell_type": "markdown",
   "id": "090de89b",
   "metadata": {},
   "source": [
    "## Repetition"
   ]
  },
  {
   "cell_type": "code",
   "execution_count": 11,
   "id": "dc0e6db4",
   "metadata": {},
   "outputs": [
    {
     "data": {
      "text/plain": [
       "' hello world  hello world  hello world  hello world  hello world '"
      ]
     },
     "execution_count": 11,
     "metadata": {},
     "output_type": "execute_result"
    }
   ],
   "source": [
    "hello = \" hello world \"\n",
    "s = hello*5\n",
    "s"
   ]
  },
  {
   "cell_type": "code",
   "execution_count": 12,
   "id": "54044512",
   "metadata": {},
   "outputs": [
    {
     "data": {
      "text/plain": [
       "'1 1 1 1 1 1 1 1 1 1 '"
      ]
     },
     "execution_count": 12,
     "metadata": {},
     "output_type": "execute_result"
    }
   ],
   "source": [
    "\"1 \"*10"
   ]
  },
  {
   "cell_type": "markdown",
   "id": "f737a779",
   "metadata": {},
   "source": [
    "## in operator"
   ]
  },
  {
   "cell_type": "code",
   "execution_count": 13,
   "id": "4731bbd4",
   "metadata": {},
   "outputs": [],
   "source": [
    "book = 'harry potter and the half blood prince'"
   ]
  },
  {
   "cell_type": "code",
   "execution_count": 14,
   "id": "4d66bd50",
   "metadata": {},
   "outputs": [
    {
     "name": "stdout",
     "output_type": "stream",
     "text": [
      "yes\n"
     ]
    }
   ],
   "source": [
    "if \"harry\" in book:\n",
    "    print(\"yes\")\n",
    "else:\n",
    "    print(\"no\")"
   ]
  },
  {
   "cell_type": "markdown",
   "id": "f9622eaf",
   "metadata": {},
   "source": [
    "## Count"
   ]
  },
  {
   "cell_type": "code",
   "execution_count": 15,
   "id": "97a16ef8",
   "metadata": {},
   "outputs": [
    {
     "data": {
      "text/plain": [
       "1"
      ]
     },
     "execution_count": 15,
     "metadata": {},
     "output_type": "execute_result"
    }
   ],
   "source": [
    "book.count(\"harry\")"
   ]
  },
  {
   "cell_type": "markdown",
   "id": "da586479",
   "metadata": {},
   "source": [
    "## .find()"
   ]
  },
  {
   "cell_type": "code",
   "execution_count": 16,
   "id": "ca3fd0c2",
   "metadata": {},
   "outputs": [
    {
     "name": "stdout",
     "output_type": "stream",
     "text": [
      "13\n"
     ]
    }
   ],
   "source": [
    "book = 'harry potter and the half blood prince'\n",
    "print(book.find('and'))"
   ]
  },
  {
   "cell_type": "markdown",
   "id": "7f6abc9d",
   "metadata": {},
   "source": [
    "## .replace()"
   ]
  },
  {
   "cell_type": "code",
   "execution_count": 17,
   "id": "b79447a4",
   "metadata": {},
   "outputs": [
    {
     "data": {
      "text/plain": [
       "'python is amazing'"
      ]
     },
     "execution_count": 17,
     "metadata": {},
     "output_type": "execute_result"
    }
   ],
   "source": [
    "text = \"python is amazing\"\n",
    "text"
   ]
  },
  {
   "cell_type": "code",
   "execution_count": 18,
   "id": "9e4fb5c8",
   "metadata": {},
   "outputs": [
    {
     "data": {
      "text/plain": [
       "'python is awesome'"
      ]
     },
     "execution_count": 18,
     "metadata": {},
     "output_type": "execute_result"
    }
   ],
   "source": [
    "new = text.replace('amazing', 'awesome')\n",
    "new"
   ]
  },
  {
   "cell_type": "code",
   "execution_count": 19,
   "id": "05b0e42f",
   "metadata": {},
   "outputs": [
    {
     "data": {
      "text/plain": [
       "'python xs amazxng'"
      ]
     },
     "execution_count": 19,
     "metadata": {},
     "output_type": "execute_result"
    }
   ],
   "source": [
    "new = text.replace('i', 'x')\n",
    "new"
   ]
  },
  {
   "cell_type": "markdown",
   "id": "9b8819f0",
   "metadata": {},
   "source": [
    "## lower() & upper()"
   ]
  },
  {
   "cell_type": "code",
   "execution_count": 20,
   "id": "2dfd3aaf",
   "metadata": {},
   "outputs": [],
   "source": [
    "book = 'harry potter and the half blood prince'"
   ]
  },
  {
   "cell_type": "code",
   "execution_count": 21,
   "id": "26587e68",
   "metadata": {},
   "outputs": [
    {
     "data": {
      "text/plain": [
       "'harry potter and the half blood prince'"
      ]
     },
     "execution_count": 21,
     "metadata": {},
     "output_type": "execute_result"
    }
   ],
   "source": [
    "lower_case = book.lower()\n",
    "lower_case"
   ]
  },
  {
   "cell_type": "code",
   "execution_count": 22,
   "id": "e39be199",
   "metadata": {},
   "outputs": [
    {
     "data": {
      "text/plain": [
       "'HARRY POTTER AND THE HALF BLOOD PRINCE'"
      ]
     },
     "execution_count": 22,
     "metadata": {},
     "output_type": "execute_result"
    }
   ],
   "source": [
    "upper_case = book.upper()\n",
    "upper_case"
   ]
  },
  {
   "cell_type": "markdown",
   "id": "356e876b",
   "metadata": {},
   "source": [
    "## Looping over strings"
   ]
  },
  {
   "cell_type": "code",
   "execution_count": 23,
   "id": "997b2f22",
   "metadata": {
    "scrolled": true
   },
   "outputs": [
    {
     "name": "stdout",
     "output_type": "stream",
     "text": [
      "h/a/r/r/y/ /p/o/t/t/e/r/ /a/n/d/ /t/h/e/ /h/a/l/f/ /b/l/o/o/d/ /p/r/i/n/c/e/"
     ]
    }
   ],
   "source": [
    "for char in book:\n",
    "    print(char, end='/')"
   ]
  },
  {
   "cell_type": "code",
   "execution_count": 24,
   "id": "f502fdc9",
   "metadata": {},
   "outputs": [],
   "source": [
    "# delete\n",
    "\n",
    "del book"
   ]
  },
  {
   "cell_type": "code",
   "execution_count": 25,
   "id": "b39c74dd",
   "metadata": {},
   "outputs": [
    {
     "ename": "NameError",
     "evalue": "name 'book' is not defined",
     "output_type": "error",
     "traceback": [
      "\u001b[1;31m---------------------------------------------------------------------------\u001b[0m",
      "\u001b[1;31mNameError\u001b[0m                                 Traceback (most recent call last)",
      "Cell \u001b[1;32mIn[25], line 1\u001b[0m\n\u001b[1;32m----> 1\u001b[0m \u001b[43mbook\u001b[49m\n",
      "\u001b[1;31mNameError\u001b[0m: name 'book' is not defined"
     ]
    }
   ],
   "source": [
    "book"
   ]
  },
  {
   "cell_type": "markdown",
   "id": "942fabc0",
   "metadata": {},
   "source": [
    "## ord function\n",
    "\n",
    "### to get the ASCII code for the any char"
   ]
  },
  {
   "cell_type": "code",
   "execution_count": 26,
   "id": "594768a5",
   "metadata": {},
   "outputs": [
    {
     "data": {
      "text/plain": [
       "97"
      ]
     },
     "execution_count": 26,
     "metadata": {},
     "output_type": "execute_result"
    }
   ],
   "source": [
    "ord('a')"
   ]
  },
  {
   "cell_type": "code",
   "execution_count": 27,
   "id": "b08dcc7e",
   "metadata": {},
   "outputs": [
    {
     "data": {
      "text/plain": [
       "65"
      ]
     },
     "execution_count": 27,
     "metadata": {},
     "output_type": "execute_result"
    }
   ],
   "source": [
    "ord('A')"
   ]
  },
  {
   "cell_type": "code",
   "execution_count": 28,
   "id": "60c4816d",
   "metadata": {},
   "outputs": [
    {
     "ename": "TypeError",
     "evalue": "ord() expected a character, but string of length 2 found",
     "output_type": "error",
     "traceback": [
      "\u001b[1;31m---------------------------------------------------------------------------\u001b[0m",
      "\u001b[1;31mTypeError\u001b[0m                                 Traceback (most recent call last)",
      "Cell \u001b[1;32mIn[28], line 1\u001b[0m\n\u001b[1;32m----> 1\u001b[0m \u001b[38;5;28;43mord\u001b[39;49m\u001b[43m(\u001b[49m\u001b[38;5;124;43m'\u001b[39;49m\u001b[38;5;124;43mab\u001b[39;49m\u001b[38;5;124;43m'\u001b[39;49m\u001b[43m)\u001b[49m\n",
      "\u001b[1;31mTypeError\u001b[0m: ord() expected a character, but string of length 2 found"
     ]
    }
   ],
   "source": [
    "ord('ab')"
   ]
  },
  {
   "cell_type": "markdown",
   "id": "ced9a257",
   "metadata": {},
   "source": [
    "## String splicing"
   ]
  },
  {
   "cell_type": "code",
   "execution_count": 29,
   "id": "4adc1949",
   "metadata": {},
   "outputs": [
    {
     "data": {
      "text/plain": [
       "'hello worl'"
      ]
     },
     "execution_count": 29,
     "metadata": {},
     "output_type": "execute_result"
    }
   ],
   "source": [
    "s = \"hello world\"\n",
    "s[:-1]"
   ]
  },
  {
   "cell_type": "code",
   "execution_count": 30,
   "id": "cedd5389",
   "metadata": {},
   "outputs": [
    {
     "name": "stdout",
     "output_type": "stream",
     "text": [
      "A\n",
      "B B\n",
      "C C C\n",
      "D D D D\n"
     ]
    }
   ],
   "source": [
    "n = 4\n",
    "for i in range(1, n+1):\n",
    "    c = chr(i + ord('A') - 1)\n",
    "    s = (c + \" \") * i\n",
    "    print(s[:-1])"
   ]
  },
  {
   "cell_type": "markdown",
   "id": "52e6d32e",
   "metadata": {},
   "source": [
    "## strip function"
   ]
  },
  {
   "cell_type": "code",
   "execution_count": 31,
   "id": "4cb1ca80",
   "metadata": {},
   "outputs": [
    {
     "data": {
      "text/plain": [
       "'      hello'"
      ]
     },
     "execution_count": 31,
     "metadata": {},
     "output_type": "execute_result"
    }
   ],
   "source": [
    "s = \"      hello\"\n",
    "s"
   ]
  },
  {
   "cell_type": "code",
   "execution_count": 32,
   "id": "b8b059cb",
   "metadata": {},
   "outputs": [
    {
     "data": {
      "text/plain": [
       "'hello'"
      ]
     },
     "execution_count": 32,
     "metadata": {},
     "output_type": "execute_result"
    }
   ],
   "source": [
    "s.lstrip()"
   ]
  },
  {
   "cell_type": "code",
   "execution_count": 33,
   "id": "8b3fc6a8",
   "metadata": {},
   "outputs": [
    {
     "data": {
      "text/plain": [
       "'      hello'"
      ]
     },
     "execution_count": 33,
     "metadata": {},
     "output_type": "execute_result"
    }
   ],
   "source": [
    "s.rstrip()"
   ]
  },
  {
   "cell_type": "code",
   "execution_count": 34,
   "id": "38e96e43",
   "metadata": {},
   "outputs": [
    {
     "data": {
      "text/plain": [
       "['harry', 'potter', 'and', 'the', 'half', 'blood', 'prince']"
      ]
     },
     "execution_count": 34,
     "metadata": {},
     "output_type": "execute_result"
    }
   ],
   "source": [
    "book = 'harry potter and the half blood prince'\n",
    "l = book.split()\n",
    "l"
   ]
  },
  {
   "cell_type": "code",
   "execution_count": 35,
   "id": "acd4cf79",
   "metadata": {},
   "outputs": [
    {
     "data": {
      "text/plain": [
       "list"
      ]
     },
     "execution_count": 35,
     "metadata": {},
     "output_type": "execute_result"
    }
   ],
   "source": [
    "type(l)"
   ]
  },
  {
   "cell_type": "code",
   "execution_count": 36,
   "id": "8ba807bd",
   "metadata": {},
   "outputs": [
    {
     "data": {
      "text/plain": [
       "['prince', 'blood', 'half', 'the', 'and', 'potter', 'harry']"
      ]
     },
     "execution_count": 36,
     "metadata": {},
     "output_type": "execute_result"
    }
   ],
   "source": [
    "l = l[::-1]\n",
    "l"
   ]
  },
  {
   "cell_type": "code",
   "execution_count": 37,
   "id": "948e761a",
   "metadata": {},
   "outputs": [
    {
     "data": {
      "text/plain": [
       "'prince blood half the and potter harry'"
      ]
     },
     "execution_count": 37,
     "metadata": {},
     "output_type": "execute_result"
    }
   ],
   "source": [
    "s = \" \".join(l)\n",
    "s"
   ]
  },
  {
   "cell_type": "code",
   "execution_count": 38,
   "id": "92dce9d0",
   "metadata": {},
   "outputs": [
    {
     "data": {
      "text/plain": [
       "'koob siht'"
      ]
     },
     "execution_count": 38,
     "metadata": {},
     "output_type": "execute_result"
    }
   ],
   "source": [
    "s = \"this book\"\n",
    "s = s[::-1]\n",
    "s"
   ]
  },
  {
   "cell_type": "code",
   "execution_count": 39,
   "id": "b88bf88c",
   "metadata": {},
   "outputs": [
    {
     "data": {
      "text/plain": [
       "'siht koob'"
      ]
     },
     "execution_count": 39,
     "metadata": {},
     "output_type": "execute_result"
    }
   ],
   "source": [
    "s = \" \".join(s.split()[::-1])\n",
    "s"
   ]
  },
  {
   "cell_type": "markdown",
   "id": "9740c82a",
   "metadata": {},
   "source": [
    "## Format strings"
   ]
  },
  {
   "cell_type": "code",
   "execution_count": 40,
   "id": "38ba297d",
   "metadata": {},
   "outputs": [],
   "source": [
    "apple_count = 4\n",
    "orange_count = 10\n",
    "guava_count = 5"
   ]
  },
  {
   "cell_type": "code",
   "execution_count": 42,
   "id": "ea2ff3ec",
   "metadata": {},
   "outputs": [
    {
     "data": {
      "text/plain": [
       "'I have 4 apples 10 oranges and 5 guavas'"
      ]
     },
     "execution_count": 42,
     "metadata": {},
     "output_type": "execute_result"
    }
   ],
   "source": [
    "s = \"I have \" + str(apple_count) + \" apples \" + str(orange_count) + \" oranges and \" + str(guava_count) + \" guavas\"\n",
    "s"
   ]
  },
  {
   "cell_type": "code",
   "execution_count": 44,
   "id": "c485b3d4",
   "metadata": {},
   "outputs": [
    {
     "ename": "SyntaxError",
     "evalue": "unterminated string literal (detected at line 1) (2983493558.py, line 1)",
     "output_type": "error",
     "traceback": [
      "\u001b[1;36m  Cell \u001b[1;32mIn[44], line 1\u001b[1;36m\u001b[0m\n\u001b[1;33m    s = f\"I have {apple_count} apples, {orange_count} oranges and {guava_count} guavas\u001b[0m\n\u001b[1;37m        ^\u001b[0m\n\u001b[1;31mSyntaxError\u001b[0m\u001b[1;31m:\u001b[0m unterminated string literal (detected at line 1)\n"
     ]
    }
   ],
   "source": [
    "s = f\"I have {apple_count} apples, {orange_count} oranges and {guava_count} guavas\n",
    "s"
   ]
  },
  {
   "cell_type": "code",
   "execution_count": 45,
   "id": "0d45b9ee",
   "metadata": {},
   "outputs": [
    {
     "data": {
      "text/plain": [
       "'I have 4 apples, 10 oranges and 5 guavas'"
      ]
     },
     "execution_count": 45,
     "metadata": {},
     "output_type": "execute_result"
    }
   ],
   "source": [
    "s = \"I have {} apples, {} oranges and {} guavas\".format(apple_count, orange_count, guava_count)\n",
    "s"
   ]
  },
  {
   "cell_type": "markdown",
   "id": "cadcf762",
   "metadata": {},
   "source": [
    "## Docstrings"
   ]
  },
  {
   "cell_type": "code",
   "execution_count": 46,
   "id": "bbdc2281",
   "metadata": {},
   "outputs": [],
   "source": [
    "range?"
   ]
  },
  {
   "cell_type": "code",
   "execution_count": 49,
   "id": "736ae8b3",
   "metadata": {},
   "outputs": [],
   "source": [
    "def square(x):\n",
    "    '''\n",
    "    This function returns the square of a number\n",
    "    '''\n",
    "    return x**2"
   ]
  },
  {
   "cell_type": "code",
   "execution_count": 50,
   "id": "bf527995",
   "metadata": {},
   "outputs": [],
   "source": [
    "square?"
   ]
  },
  {
   "cell_type": "code",
   "execution_count": 51,
   "id": "704eaace",
   "metadata": {},
   "outputs": [
    {
     "data": {
      "text/plain": [
       "25"
      ]
     },
     "execution_count": 51,
     "metadata": {},
     "output_type": "execute_result"
    }
   ],
   "source": [
    "square(5)"
   ]
  },
  {
   "cell_type": "code",
   "execution_count": null,
   "id": "6d8c2013",
   "metadata": {},
   "outputs": [],
   "source": []
  }
 ],
 "metadata": {
  "kernelspec": {
   "display_name": "Python 3 (ipykernel)",
   "language": "python",
   "name": "python3"
  },
  "language_info": {
   "codemirror_mode": {
    "name": "ipython",
    "version": 3
   },
   "file_extension": ".py",
   "mimetype": "text/x-python",
   "name": "python",
   "nbconvert_exporter": "python",
   "pygments_lexer": "ipython3",
   "version": "3.10.9"
  }
 },
 "nbformat": 4,
 "nbformat_minor": 5
}
