{
 "cells": [
  {
   "cell_type": "markdown",
   "id": "9f28fb97",
   "metadata": {},
   "source": [
    "# Funcions in python"
   ]
  },
  {
   "cell_type": "code",
   "execution_count": 1,
   "id": "226bb5ba",
   "metadata": {},
   "outputs": [
    {
     "name": "stdout",
     "output_type": "stream",
     "text": [
      "not a part of function\n"
     ]
    }
   ],
   "source": [
    "def tea():\n",
    "    print(\"boil water\")\n",
    "    print(\"add milk\")\n",
    "    print(\"boil\")\n",
    "\n",
    "print(\"not a part of function\")    \n",
    "    \n",
    "def coffee():\n",
    "    print(\"boil milk\")\n",
    "    print(\"pour\")\n",
    "    print(\"stir\")"
   ]
  },
  {
   "cell_type": "code",
   "execution_count": 2,
   "id": "33137786",
   "metadata": {},
   "outputs": [
    {
     "name": "stdout",
     "output_type": "stream",
     "text": [
      "boil water\n",
      "add milk\n",
      "boil\n"
     ]
    }
   ],
   "source": [
    "tea()"
   ]
  },
  {
   "cell_type": "code",
   "execution_count": 3,
   "id": "97ba4d4d",
   "metadata": {},
   "outputs": [
    {
     "name": "stdout",
     "output_type": "stream",
     "text": [
      "boil milk\n",
      "pour\n",
      "stir\n"
     ]
    }
   ],
   "source": [
    "coffee()"
   ]
  },
  {
   "cell_type": "code",
   "execution_count": 4,
   "id": "525e380b",
   "metadata": {},
   "outputs": [
    {
     "name": "stdout",
     "output_type": "stream",
     "text": [
      "hello  nensi\n"
     ]
    }
   ],
   "source": [
    "# function to say hello to people by their name\n",
    "\n",
    "def hello(name):\n",
    "    print(\"hello \",name)\n",
    "hello(\"nensi\")    "
   ]
  },
  {
   "cell_type": "code",
   "execution_count": 5,
   "id": "f6467bee",
   "metadata": {},
   "outputs": [
    {
     "name": "stdout",
     "output_type": "stream",
     "text": [
      "hello  5\n"
     ]
    }
   ],
   "source": [
    "hello(5)"
   ]
  },
  {
   "cell_type": "code",
   "execution_count": 6,
   "id": "31bc8d72",
   "metadata": {},
   "outputs": [
    {
     "name": "stdout",
     "output_type": "stream",
     "text": [
      "hello  True\n"
     ]
    }
   ],
   "source": [
    "hello(True)"
   ]
  },
  {
   "cell_type": "code",
   "execution_count": 7,
   "id": "8bb03c14",
   "metadata": {},
   "outputs": [
    {
     "name": "stdout",
     "output_type": "stream",
     "text": [
      "<class 'function'>\n"
     ]
    }
   ],
   "source": [
    "print(type(hello))"
   ]
  },
  {
   "cell_type": "code",
   "execution_count": 8,
   "id": "638d8ce4",
   "metadata": {},
   "outputs": [],
   "source": [
    "#multiple arguments\n",
    "\n",
    "def fight(name, age):\n",
    "    print(\"Name :\",name, \"Age :\",age)"
   ]
  },
  {
   "cell_type": "code",
   "execution_count": 9,
   "id": "b1704ac2",
   "metadata": {},
   "outputs": [
    {
     "name": "stdout",
     "output_type": "stream",
     "text": [
      "Name : nensi Age : 19\n"
     ]
    }
   ],
   "source": [
    "fight(\"nensi\",19)"
   ]
  },
  {
   "cell_type": "code",
   "execution_count": 20,
   "id": "f432bb4b",
   "metadata": {},
   "outputs": [],
   "source": [
    "def fight(name, age, college = [\"charusat\"]):\n",
    "    print(\"Name :\",name, \"Age :\",age,\"college :\",college)"
   ]
  },
  {
   "cell_type": "code",
   "execution_count": 21,
   "id": "46be024a",
   "metadata": {},
   "outputs": [
    {
     "ename": "NameError",
     "evalue": "name 'college' is not defined",
     "output_type": "error",
     "traceback": [
      "\u001b[1;31m---------------------------------------------------------------------------\u001b[0m",
      "\u001b[1;31mNameError\u001b[0m                                 Traceback (most recent call last)",
      "Cell \u001b[1;32mIn[21], line 1\u001b[0m\n\u001b[1;32m----> 1\u001b[0m fight(\u001b[38;5;124m\"\u001b[39m\u001b[38;5;124mnensi\u001b[39m\u001b[38;5;124m\"\u001b[39m,\u001b[38;5;241m19\u001b[39m,\u001b[43mcollege\u001b[49m)\n",
      "\u001b[1;31mNameError\u001b[0m: name 'college' is not defined"
     ]
    }
   ],
   "source": [
    "fight(\"nensi\",19,college)"
   ]
  },
  {
   "cell_type": "markdown",
   "id": "869975d4",
   "metadata": {},
   "source": [
    "## Returning data from a function"
   ]
  },
  {
   "cell_type": "code",
   "execution_count": 12,
   "id": "12fe9137",
   "metadata": {},
   "outputs": [],
   "source": [
    "def cube(x):\n",
    "    ans = x **3\n",
    "    return ans"
   ]
  },
  {
   "cell_type": "code",
   "execution_count": 14,
   "id": "affcf341",
   "metadata": {},
   "outputs": [
    {
     "data": {
      "text/plain": [
       "8"
      ]
     },
     "execution_count": 14,
     "metadata": {},
     "output_type": "execute_result"
    }
   ],
   "source": [
    "cube(2)"
   ]
  },
  {
   "cell_type": "code",
   "execution_count": 15,
   "id": "d00b8933",
   "metadata": {},
   "outputs": [
    {
     "data": {
      "text/plain": [
       "125"
      ]
     },
     "execution_count": 15,
     "metadata": {},
     "output_type": "execute_result"
    }
   ],
   "source": [
    "x = 5\n",
    "y = cube(x)\n",
    "y"
   ]
  },
  {
   "cell_type": "code",
   "execution_count": 29,
   "id": "47ea4950",
   "metadata": {},
   "outputs": [],
   "source": [
    "def spiderman():\n",
    "    return \"peter\", 20, \"tom\"\n",
    "    return 5,4,3 # reduntant code, never get executed"
   ]
  },
  {
   "cell_type": "code",
   "execution_count": 30,
   "id": "f902a336",
   "metadata": {},
   "outputs": [],
   "source": [
    "name, age, actor = spiderman()"
   ]
  },
  {
   "cell_type": "code",
   "execution_count": 31,
   "id": "6ed87f74",
   "metadata": {},
   "outputs": [
    {
     "name": "stdout",
     "output_type": "stream",
     "text": [
      "name : peter\n",
      "age : 20\n",
      "actor : tom\n"
     ]
    }
   ],
   "source": [
    "print(\"name :\",name)\n",
    "print(\"age :\",age)\n",
    "print(\"actor :\",actor)"
   ]
  },
  {
   "cell_type": "markdown",
   "id": "c902ac69",
   "metadata": {},
   "source": [
    "## Calling with keyword pair arguments"
   ]
  },
  {
   "cell_type": "code",
   "execution_count": 32,
   "id": "678154d3",
   "metadata": {},
   "outputs": [],
   "source": [
    "def fight(name, age):\n",
    "    print(\"Name :\",name, \"Age :\",age)"
   ]
  },
  {
   "cell_type": "code",
   "execution_count": 34,
   "id": "23790971",
   "metadata": {},
   "outputs": [
    {
     "name": "stdout",
     "output_type": "stream",
     "text": [
      "Name : nensi Age : 19\n"
     ]
    }
   ],
   "source": [
    "fight(age = 19,name = \"nensi\")"
   ]
  },
  {
   "cell_type": "markdown",
   "id": "e9a05519",
   "metadata": {},
   "source": [
    "## Call Stack"
   ]
  },
  {
   "cell_type": "code",
   "execution_count": 39,
   "id": "6053c79d",
   "metadata": {},
   "outputs": [
    {
     "name": "stdout",
     "output_type": "stream",
     "text": [
      "41\n",
      "hello\n",
      "100\n"
     ]
    }
   ],
   "source": [
    "def square(x):\n",
    "    return x**2\n",
    "\n",
    "def pythagoras(a,b):\n",
    "    c2 = square(a) + square(b)\n",
    "    return c2\n",
    "\n",
    "print(pythagoras(4,5))\n",
    "print(\"hello\")\n",
    "print(square(10))"
   ]
  },
  {
   "cell_type": "markdown",
   "id": "480497d1",
   "metadata": {},
   "source": [
    "## Map function"
   ]
  },
  {
   "cell_type": "code",
   "execution_count": 40,
   "id": "140d9c05",
   "metadata": {},
   "outputs": [],
   "source": [
    "def square(x):\n",
    "    return x**2\n",
    "\n",
    "a = [5,2,6,9,3]"
   ]
  },
  {
   "cell_type": "code",
   "execution_count": 42,
   "id": "02153435",
   "metadata": {},
   "outputs": [],
   "source": [
    "b = [25,4,36,81,9]"
   ]
  },
  {
   "cell_type": "code",
   "execution_count": 43,
   "id": "f7224434",
   "metadata": {},
   "outputs": [],
   "source": [
    "b = []\n",
    "for x in a:\n",
    "    b.append(square(x))"
   ]
  },
  {
   "cell_type": "code",
   "execution_count": 44,
   "id": "0f98e55b",
   "metadata": {},
   "outputs": [
    {
     "data": {
      "text/plain": [
       "[25, 4, 36, 81, 9]"
      ]
     },
     "execution_count": 44,
     "metadata": {},
     "output_type": "execute_result"
    }
   ],
   "source": [
    "b"
   ]
  },
  {
   "cell_type": "code",
   "execution_count": 46,
   "id": "b0763dcf",
   "metadata": {},
   "outputs": [
    {
     "data": {
      "text/plain": [
       "[25, 4, 36, 81, 9]"
      ]
     },
     "execution_count": 46,
     "metadata": {},
     "output_type": "execute_result"
    }
   ],
   "source": [
    "b = list(map(square, a))\n",
    "b"
   ]
  },
  {
   "cell_type": "markdown",
   "id": "ae9a3a19",
   "metadata": {},
   "source": [
    "## Lambda function"
   ]
  },
  {
   "cell_type": "code",
   "execution_count": 47,
   "id": "b97510b6",
   "metadata": {},
   "outputs": [],
   "source": [
    "def square(x):\n",
    "    return x**2\n",
    "\n",
    "def cube(x):\n",
    "    return x**3\n"
   ]
  },
  {
   "cell_type": "code",
   "execution_count": 48,
   "id": "3bc3cb63",
   "metadata": {},
   "outputs": [],
   "source": [
    "square2 = lambda x : x**2"
   ]
  },
  {
   "cell_type": "code",
   "execution_count": 49,
   "id": "8bd87a7c",
   "metadata": {},
   "outputs": [
    {
     "data": {
      "text/plain": [
       "100"
      ]
     },
     "execution_count": 49,
     "metadata": {},
     "output_type": "execute_result"
    }
   ],
   "source": [
    "square2(10)"
   ]
  },
  {
   "cell_type": "code",
   "execution_count": 52,
   "id": "b6fe9221",
   "metadata": {},
   "outputs": [],
   "source": [
    "multiply1 = lambda a,b : a*b\n",
    "\n",
    "def multiply2(a,b):\n",
    "    return a*b"
   ]
  },
  {
   "cell_type": "code",
   "execution_count": 53,
   "id": "f9cae23b",
   "metadata": {},
   "outputs": [
    {
     "data": {
      "text/plain": [
       "30"
      ]
     },
     "execution_count": 53,
     "metadata": {},
     "output_type": "execute_result"
    }
   ],
   "source": [
    "multiply2(6,5)"
   ]
  },
  {
   "cell_type": "code",
   "execution_count": null,
   "id": "e8d14be0",
   "metadata": {},
   "outputs": [],
   "source": []
  }
 ],
 "metadata": {
  "kernelspec": {
   "display_name": "Python 3 (ipykernel)",
   "language": "python",
   "name": "python3"
  },
  "language_info": {
   "codemirror_mode": {
    "name": "ipython",
    "version": 3
   },
   "file_extension": ".py",
   "mimetype": "text/x-python",
   "name": "python",
   "nbconvert_exporter": "python",
   "pygments_lexer": "ipython3",
   "version": "3.10.9"
  }
 },
 "nbformat": 4,
 "nbformat_minor": 5
}
