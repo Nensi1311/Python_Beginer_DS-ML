{
 "cells": [
  {
   "cell_type": "markdown",
   "id": "2c73561f",
   "metadata": {},
   "source": [
    "# Problem Solving Session"
   ]
  },
  {
   "cell_type": "markdown",
   "id": "01d9bbc7",
   "metadata": {},
   "source": [
    "## 1. Target Sum of two numbers"
   ]
  },
  {
   "cell_type": "code",
   "execution_count": 3,
   "id": "8fef0528",
   "metadata": {},
   "outputs": [],
   "source": [
    "def twoSum(a,b):\n",
    "    num_to_index = {}\n",
    "    \n",
    "    for i in range(len(a)):\n",
    "        required = b - a[i]\n",
    "        \n",
    "        if required in num_to_index:\n",
    "            return num_to_index[required]+1, i+1\n",
    "        \n",
    "        if a[i] not in num_to_index:\n",
    "            num_to_index[a[i]] = i\n",
    "        \n",
    "    return []   "
   ]
  },
  {
   "cell_type": "code",
   "execution_count": 4,
   "id": "8310e8f9",
   "metadata": {},
   "outputs": [
    {
     "data": {
      "text/plain": [
       "(1, 3)"
      ]
     },
     "execution_count": 4,
     "metadata": {},
     "output_type": "execute_result"
    }
   ],
   "source": [
    "twoSum([2,7,11,15], 13)"
   ]
  },
  {
   "cell_type": "markdown",
   "id": "959756e1",
   "metadata": {},
   "source": [
    "## 2. Maximum Absolute Difference"
   ]
  },
  {
   "cell_type": "code",
   "execution_count": 1,
   "id": "aeda6064",
   "metadata": {},
   "outputs": [],
   "source": [
    "def maxArr(A):\n",
    "    inf = 10 ** 9\n",
    "    a = -inf\n",
    "    b = inf\n",
    "    c = -inf\n",
    "    d = inf\n",
    "    \n",
    "    for i in range(len(A)):\n",
    "        x = A[i]\n",
    "        a = max(a, x+i)\n",
    "        b = min(b, x+i)\n",
    "        c = max(c, x-i)\n",
    "        d = min(d, x-i)\n",
    "        \n",
    "    ans = max(a-b, c-d)\n",
    "    return ans"
   ]
  },
  {
   "cell_type": "code",
   "execution_count": 2,
   "id": "493dfa1b",
   "metadata": {},
   "outputs": [
    {
     "data": {
      "text/plain": [
       "5"
      ]
     },
     "execution_count": 2,
     "metadata": {},
     "output_type": "execute_result"
    }
   ],
   "source": [
    "maxArr([1,3,-1])"
   ]
  },
  {
   "cell_type": "markdown",
   "id": "23b9db93",
   "metadata": {},
   "source": [
    "# 3. First missing positive integer\n",
    "\n",
    "## ans will always be in range[1, N]\n",
    "### time & space - O(n)"
   ]
  },
  {
   "cell_type": "code",
   "execution_count": 5,
   "id": "3f79d217",
   "metadata": {},
   "outputs": [],
   "source": [
    "def firstMissingPositive(A):\n",
    "    n = len(A)\n",
    "# sanitize our data\n",
    "    for i in range(n):\n",
    "        if A[i] <= 0 or A[i] > n:\n",
    "            A[i] = n+1000\n",
    "\n",
    "# storing our data by indices\n",
    "    for i in range(n):\n",
    "        idx = abs(A[i]) - 1\n",
    "        \n",
    "        if idx >= 0 and idx < n and A[idx] > 0:\n",
    "            A[idx] = -A[idx]\n",
    "\n",
    "# search for our answer\n",
    "    for i in range(n):\n",
    "        if A[i] > 0:\n",
    "            return i+1\n",
    "        \n",
    "    return n +1    "
   ]
  },
  {
   "cell_type": "code",
   "execution_count": 6,
   "id": "4c82f6c4",
   "metadata": {},
   "outputs": [
    {
     "data": {
      "text/plain": [
       "2"
      ]
     },
     "execution_count": 6,
     "metadata": {},
     "output_type": "execute_result"
    }
   ],
   "source": [
    "firstMissingPositive([3,4,-1,1])"
   ]
  },
  {
   "cell_type": "code",
   "execution_count": null,
   "id": "4e1328e4",
   "metadata": {},
   "outputs": [],
   "source": []
  }
 ],
 "metadata": {
  "kernelspec": {
   "display_name": "Python 3 (ipykernel)",
   "language": "python",
   "name": "python3"
  },
  "language_info": {
   "codemirror_mode": {
    "name": "ipython",
    "version": 3
   },
   "file_extension": ".py",
   "mimetype": "text/x-python",
   "name": "python",
   "nbconvert_exporter": "python",
   "pygments_lexer": "ipython3",
   "version": "3.10.9"
  }
 },
 "nbformat": 4,
 "nbformat_minor": 5
}
