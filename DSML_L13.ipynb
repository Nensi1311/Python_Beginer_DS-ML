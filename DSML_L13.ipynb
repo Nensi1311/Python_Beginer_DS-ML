{
 "cells": [
  {
   "cell_type": "markdown",
   "id": "ea122526",
   "metadata": {},
   "source": [
    "# Maths"
   ]
  },
  {
   "cell_type": "markdown",
   "id": "b2b30533",
   "metadata": {},
   "source": [
    "## Logarithm"
   ]
  },
  {
   "cell_type": "code",
   "execution_count": 1,
   "id": "5a9ca68d",
   "metadata": {},
   "outputs": [],
   "source": [
    "import math"
   ]
  },
  {
   "cell_type": "code",
   "execution_count": 2,
   "id": "8cb14fef",
   "metadata": {},
   "outputs": [
    {
     "data": {
      "text/plain": [
       "2.718281828459045"
      ]
     },
     "execution_count": 2,
     "metadata": {},
     "output_type": "execute_result"
    }
   ],
   "source": [
    "math.e"
   ]
  },
  {
   "cell_type": "code",
   "execution_count": 3,
   "id": "8dc2b4ce",
   "metadata": {},
   "outputs": [
    {
     "data": {
      "text/plain": [
       "2.302585092994046"
      ]
     },
     "execution_count": 3,
     "metadata": {},
     "output_type": "execute_result"
    }
   ],
   "source": [
    "# base e\n",
    "\n",
    "math.log(10)"
   ]
  },
  {
   "cell_type": "code",
   "execution_count": 4,
   "id": "58f72a67",
   "metadata": {},
   "outputs": [
    {
     "data": {
      "text/plain": [
       "3.0"
      ]
     },
     "execution_count": 4,
     "metadata": {},
     "output_type": "execute_result"
    }
   ],
   "source": [
    "# math.log(x, base)\n",
    "\n",
    "math.log(343, 7)"
   ]
  },
  {
   "cell_type": "code",
   "execution_count": 5,
   "id": "3352a2b9",
   "metadata": {},
   "outputs": [
    {
     "data": {
      "text/plain": [
       "3.0"
      ]
     },
     "execution_count": 5,
     "metadata": {},
     "output_type": "execute_result"
    }
   ],
   "source": [
    "# math.log*base(x)\n",
    "\n",
    "math.log2(8)"
   ]
  },
  {
   "cell_type": "code",
   "execution_count": 6,
   "id": "155af5e6",
   "metadata": {},
   "outputs": [
    {
     "name": "stdout",
     "output_type": "stream",
     "text": [
      "100\n",
      "50.0\n",
      "25.0\n",
      "12.5\n",
      "6.25\n",
      "3.125\n",
      "1.5625\n"
     ]
    }
   ],
   "source": [
    "n = 100\n",
    "while n >1:\n",
    "    print(n)\n",
    "    n = n/2"
   ]
  },
  {
   "cell_type": "code",
   "execution_count": 7,
   "id": "8d12012a",
   "metadata": {},
   "outputs": [],
   "source": [
    "# how many iteration above code snippet\n",
    "\n",
    "#g approx log(n, 2)"
   ]
  },
  {
   "cell_type": "markdown",
   "id": "6e8ac49f",
   "metadata": {},
   "source": [
    "## GCD\n",
    "\n",
    "### math module method - math.gcd(*integers)"
   ]
  },
  {
   "cell_type": "code",
   "execution_count": 8,
   "id": "5a520e64",
   "metadata": {},
   "outputs": [
    {
     "data": {
      "text/plain": [
       "1"
      ]
     },
     "execution_count": 8,
     "metadata": {},
     "output_type": "execute_result"
    }
   ],
   "source": [
    "math.gcd(2,3)"
   ]
  },
  {
   "cell_type": "code",
   "execution_count": 9,
   "id": "cc49aac8",
   "metadata": {},
   "outputs": [
    {
     "data": {
      "text/plain": [
       "5"
      ]
     },
     "execution_count": 9,
     "metadata": {},
     "output_type": "execute_result"
    }
   ],
   "source": [
    "math.gcd(10,15)"
   ]
  },
  {
   "cell_type": "code",
   "execution_count": 13,
   "id": "8c999a99",
   "metadata": {},
   "outputs": [
    {
     "name": "stdout",
     "output_type": "stream",
     "text": [
      "10\n",
      "5\n",
      "GCD is : 5\n"
     ]
    }
   ],
   "source": [
    "a = int(input())\n",
    "b = int(input())\n",
    "\n",
    "while a != 0:\n",
    "    a,b = b % a, a\n",
    "print(\"GCD is :\",b)"
   ]
  },
  {
   "cell_type": "markdown",
   "id": "44a6876e",
   "metadata": {},
   "source": [
    "## LCM"
   ]
  },
  {
   "cell_type": "code",
   "execution_count": 16,
   "id": "94a03b1c",
   "metadata": {},
   "outputs": [],
   "source": [
    "# time complexity - O(sqrt(n))\n",
    "\n",
    "def isprime(n):\n",
    "    sq = int(math.sqrt(n))\n",
    "    for i in range(2, sq+1):\n",
    "        if n % i == 0:\n",
    "            return false\n",
    "    return True    "
   ]
  },
  {
   "cell_type": "code",
   "execution_count": 17,
   "id": "fa42f7d6",
   "metadata": {},
   "outputs": [
    {
     "data": {
      "text/plain": [
       "True"
      ]
     },
     "execution_count": 17,
     "metadata": {},
     "output_type": "execute_result"
    }
   ],
   "source": [
    "isprime(17)"
   ]
  },
  {
   "cell_type": "markdown",
   "id": "866539fd",
   "metadata": {},
   "source": [
    "## AP - Arithmatic Progression"
   ]
  },
  {
   "cell_type": "code",
   "execution_count": null,
   "id": "f55cd9d1",
   "metadata": {},
   "outputs": [],
   "source": [
    " "
   ]
  }
 ],
 "metadata": {
  "kernelspec": {
   "display_name": "Python 3 (ipykernel)",
   "language": "python",
   "name": "python3"
  },
  "language_info": {
   "codemirror_mode": {
    "name": "ipython",
    "version": 3
   },
   "file_extension": ".py",
   "mimetype": "text/x-python",
   "name": "python",
   "nbconvert_exporter": "python",
   "pygments_lexer": "ipython3",
   "version": "3.10.9"
  }
 },
 "nbformat": 4,
 "nbformat_minor": 5
}
