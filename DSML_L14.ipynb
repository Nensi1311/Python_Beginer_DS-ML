{
 "cells": [
  {
   "cell_type": "markdown",
   "id": "99d44772",
   "metadata": {},
   "source": [
    "# Combinations\n",
    "\n",
    "## math.comb(n, r)\n",
    "\n",
    "### Choose"
   ]
  },
  {
   "cell_type": "code",
   "execution_count": 1,
   "id": "53025c24",
   "metadata": {},
   "outputs": [],
   "source": [
    "import math"
   ]
  },
  {
   "cell_type": "code",
   "execution_count": 2,
   "id": "994a2fa3",
   "metadata": {},
   "outputs": [
    {
     "data": {
      "text/plain": [
       "210"
      ]
     },
     "execution_count": 2,
     "metadata": {},
     "output_type": "execute_result"
    }
   ],
   "source": [
    "math.comb(10,4)"
   ]
  },
  {
   "cell_type": "code",
   "execution_count": 3,
   "id": "bc3b45ca",
   "metadata": {},
   "outputs": [],
   "source": [
    "def com(n,r):\n",
    "    num = math.factorial(n)\n",
    "    den = math.factorial(r) * math.factorial(n-r)\n",
    "    return num/den"
   ]
  },
  {
   "cell_type": "code",
   "execution_count": 4,
   "id": "d4507907",
   "metadata": {},
   "outputs": [
    {
     "data": {
      "text/plain": [
       "210.0"
      ]
     },
     "execution_count": 4,
     "metadata": {},
     "output_type": "execute_result"
    }
   ],
   "source": [
    "com(10,4)"
   ]
  },
  {
   "cell_type": "markdown",
   "id": "ac85dd4b",
   "metadata": {},
   "source": [
    "# Permutation\n",
    "\n",
    "## math.perm(n,r)\n",
    "\n",
    "### Choose + Arrange"
   ]
  },
  {
   "cell_type": "code",
   "execution_count": 5,
   "id": "d60d8a6f",
   "metadata": {},
   "outputs": [
    {
     "data": {
      "text/plain": [
       "39916800"
      ]
     },
     "execution_count": 5,
     "metadata": {},
     "output_type": "execute_result"
    }
   ],
   "source": [
    "math.factorial(11)"
   ]
  },
  {
   "cell_type": "code",
   "execution_count": 6,
   "id": "0d8bfd11",
   "metadata": {},
   "outputs": [
    {
     "data": {
      "text/plain": [
       "5040"
      ]
     },
     "execution_count": 6,
     "metadata": {},
     "output_type": "execute_result"
    }
   ],
   "source": [
    "math.perm(10,4)"
   ]
  },
  {
   "cell_type": "code",
   "execution_count": 10,
   "id": "4becb404",
   "metadata": {},
   "outputs": [],
   "source": [
    "def per(n,r):\n",
    "    return math.factorial(n) / math.factorial(n-r)"
   ]
  },
  {
   "cell_type": "code",
   "execution_count": 11,
   "id": "1f6b1768",
   "metadata": {},
   "outputs": [
    {
     "data": {
      "text/plain": [
       "5040.0"
      ]
     },
     "execution_count": 11,
     "metadata": {},
     "output_type": "execute_result"
    }
   ],
   "source": [
    "per(10,4)"
   ]
  },
  {
   "cell_type": "markdown",
   "id": "cdb88d77",
   "metadata": {},
   "source": [
    "# Decimal to binary\n",
    "\n",
    "## def decimalToBinary(n):\n",
    "###         return bin(n).replace(\"0b\", \"\")"
   ]
  },
  {
   "cell_type": "code",
   "execution_count": 12,
   "id": "88c7b614",
   "metadata": {},
   "outputs": [],
   "source": [
    "def decimaltobinary(n):\n",
    "    return bin(n).replace(\"0b\",\"\")"
   ]
  },
  {
   "cell_type": "code",
   "execution_count": 13,
   "id": "af244daf",
   "metadata": {},
   "outputs": [
    {
     "data": {
      "text/plain": [
       "'0b10'"
      ]
     },
     "execution_count": 13,
     "metadata": {},
     "output_type": "execute_result"
    }
   ],
   "source": [
    "bin(2)"
   ]
  },
  {
   "cell_type": "code",
   "execution_count": 25,
   "id": "5f6fa81c",
   "metadata": {},
   "outputs": [],
   "source": [
    "def decimalToBinary(n):\n",
    "    l = []\n",
    "    while n > 0:\n",
    "        reminder = n % 2\n",
    "        l.append(reminder)\n",
    "        n = n // 2\n",
    "    l = list(reversed(l))\n",
    "    return \"\".join(l)"
   ]
  },
  {
   "cell_type": "code",
   "execution_count": 26,
   "id": "6376f709",
   "metadata": {},
   "outputs": [
    {
     "ename": "TypeError",
     "evalue": "sequence item 0: expected str instance, int found",
     "output_type": "error",
     "traceback": [
      "\u001b[1;31m---------------------------------------------------------------------------\u001b[0m",
      "\u001b[1;31mTypeError\u001b[0m                                 Traceback (most recent call last)",
      "Cell \u001b[1;32mIn[26], line 1\u001b[0m\n\u001b[1;32m----> 1\u001b[0m \u001b[43mdecimalToBinary\u001b[49m\u001b[43m(\u001b[49m\u001b[38;5;241;43m2\u001b[39;49m\u001b[43m)\u001b[49m\n",
      "Cell \u001b[1;32mIn[25], line 8\u001b[0m, in \u001b[0;36mdecimalToBinary\u001b[1;34m(n)\u001b[0m\n\u001b[0;32m      6\u001b[0m     n \u001b[38;5;241m=\u001b[39m n \u001b[38;5;241m/\u001b[39m\u001b[38;5;241m/\u001b[39m \u001b[38;5;241m2\u001b[39m\n\u001b[0;32m      7\u001b[0m l \u001b[38;5;241m=\u001b[39m \u001b[38;5;28mlist\u001b[39m(\u001b[38;5;28mreversed\u001b[39m(l))\n\u001b[1;32m----> 8\u001b[0m \u001b[38;5;28;01mreturn\u001b[39;00m \u001b[38;5;124;43m\"\u001b[39;49m\u001b[38;5;124;43m\"\u001b[39;49m\u001b[38;5;241;43m.\u001b[39;49m\u001b[43mjoin\u001b[49m\u001b[43m(\u001b[49m\u001b[43ml\u001b[49m\u001b[43m)\u001b[49m\n",
      "\u001b[1;31mTypeError\u001b[0m: sequence item 0: expected str instance, int found"
     ]
    }
   ],
   "source": [
    "decimalToBinary(2)"
   ]
  },
  {
   "cell_type": "markdown",
   "id": "d8f7dd23",
   "metadata": {},
   "source": [
    "# Binary to Decimal\n",
    "\n",
    "## def binaryToDecimal(x):\n",
    "###       return int(x, 2)"
   ]
  },
  {
   "cell_type": "code",
   "execution_count": 27,
   "id": "b8bd212d",
   "metadata": {},
   "outputs": [],
   "source": [
    "def binarytodecimal(s):\n",
    "    i = 0\n",
    "    result = 0\n",
    "    for digit in s[::-1]:\n",
    "        result += int(digit) * (2**i)\n",
    "        i = i+1\n",
    "    return result    "
   ]
  },
  {
   "cell_type": "code",
   "execution_count": 28,
   "id": "c3e001e7",
   "metadata": {},
   "outputs": [
    {
     "data": {
      "text/plain": [
       "20"
      ]
     },
     "execution_count": 28,
     "metadata": {},
     "output_type": "execute_result"
    }
   ],
   "source": [
    "binarytodecimal(\"10100\")"
   ]
  },
  {
   "cell_type": "code",
   "execution_count": 30,
   "id": "0fbef3d9",
   "metadata": {
    "scrolled": true
   },
   "outputs": [
    {
     "data": {
      "text/plain": [
       "402387260077093773543702433923003985719374864210714632543799910429938512398629020592044208486969404800479988610197196058631666872994808558901323829669944590997424504087073759918823627727188732519779505950995276120874975462497043601418278094646496291056393887437886487337119181045825783647849977012476632889835955735432513185323958463075557409114262417474349347553428646576611667797396668820291207379143853719588249808126867838374559731746136085379534524221586593201928090878297308431392844403281231558611036976801357304216168747609675871348312025478589320767169132448426236131412508780208000261683151027341827977704784635868170164365024153691398281264810213092761244896359928705114964975419909342221566832572080821333186116811553615836546984046708975602900950537616475847728421889679646244945160765353408198901385442487984959953319101723355556602139450399736280750137837615307127761926849034352625200015888535147331611702103968175921510907788019393178114194545257223865541461062892187960223838971476088506276862967146674697562911234082439208160153780889893964518263243671616762179168909779911903754031274622289988005195444414282012187361745992642956581746628302955570299024324153181617210465832036786906117260158783520751516284225540265170483304226143974286933061690897968482590125458327168226458066526769958652682272807075781391858178889652208164348344825993266043367660176999612831860788386150279465955131156552036093988180612138558600301435694527224206344631797460594682573103790084024432438465657245014402821885252470935190620929023136493273497565513958720559654228749774011413346962715422845862377387538230483865688976461927383814900140767310446640259899490222221765904339901886018566526485061799702356193897017860040811889729918311021171229845901641921068884387121855646124960798722908519296819372388642614839657382291123125024186649353143970137428531926649875337218940694281434118520158014123344828015051399694290153483077644569099073152433278288269864602789864321139083506217095002597389863554277196742822248757586765752344220207573630569498825087968928162753848863396909959826280956121450994871701244516461260379029309120889086942028510640182154399457156805941872748998094254742173582401063677404595741785160829230135358081840096996372524230560855903700624271243416909004153690105933983835777939410970027753472000000000000000000000000000000000000000000000000000000000000000000000000000000000000000000000000000000000000000000000000000000000000000000000000000000000000000000000000000000000000000000000000000000000000000000000000000000000000000000000000000000000"
      ]
     },
     "execution_count": 30,
     "metadata": {},
     "output_type": "execute_result"
    }
   ],
   "source": [
    "# Problem - Trailing zeros in factorial\n",
    "\n",
    "math.factorial(1000)"
   ]
  },
  {
   "cell_type": "code",
   "execution_count": 31,
   "id": "8bc1fb92",
   "metadata": {},
   "outputs": [
    {
     "data": {
      "text/plain": [
       "9.210340371976184"
      ]
     },
     "execution_count": 31,
     "metadata": {},
     "output_type": "execute_result"
    }
   ],
   "source": [
    "math.log(10**4)"
   ]
  },
  {
   "cell_type": "code",
   "execution_count": null,
   "id": "eb4e6433",
   "metadata": {},
   "outputs": [],
   "source": []
  }
 ],
 "metadata": {
  "kernelspec": {
   "display_name": "Python 3 (ipykernel)",
   "language": "python",
   "name": "python3"
  },
  "language_info": {
   "codemirror_mode": {
    "name": "ipython",
    "version": 3
   },
   "file_extension": ".py",
   "mimetype": "text/x-python",
   "name": "python",
   "nbconvert_exporter": "python",
   "pygments_lexer": "ipython3",
   "version": "3.10.9"
  }
 },
 "nbformat": 4,
 "nbformat_minor": 5
}
