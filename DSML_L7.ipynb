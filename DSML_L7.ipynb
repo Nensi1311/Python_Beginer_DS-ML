{
 "cells": [
  {
   "cell_type": "markdown",
   "id": "cb5ee5ae",
   "metadata": {},
   "source": [
    "<h1> Programming Fundamentals 2"
   ]
  },
  {
   "cell_type": "markdown",
   "id": "78a73e9c",
   "metadata": {},
   "source": [
    "<h2> Print Statement : args, sep, end"
   ]
  },
  {
   "cell_type": "code",
   "execution_count": 1,
   "id": "805693f6",
   "metadata": {},
   "outputs": [
    {
     "name": "stdout",
     "output_type": "stream",
     "text": [
      "Hello World Python\n"
     ]
    }
   ],
   "source": [
    "# By default the value of sep=' '\n",
    "# By default the value of end='\\n'\n",
    "print(\"Hello\", \"World\", sep=' ',end=' ')\n",
    "print(\"Python\")"
   ]
  },
  {
   "cell_type": "markdown",
   "id": "90a4398d",
   "metadata": {},
   "source": [
    "<h2> Multi Strings and comments"
   ]
  },
  {
   "cell_type": "code",
   "execution_count": 2,
   "id": "eaa81041",
   "metadata": {},
   "outputs": [
    {
     "name": "stdout",
     "output_type": "stream",
     "text": [
      "Hello Hello\n"
     ]
    }
   ],
   "source": [
    "s1 = \"Hello\"\n",
    "s2 = 'Hello'\n",
    "print(s1, s2)"
   ]
  },
  {
   "cell_type": "code",
   "execution_count": 3,
   "id": "e2277216",
   "metadata": {},
   "outputs": [],
   "source": [
    "s1 = '''\n",
    "Vallabhbhai Jhaverbhai Patel (Gujarati: [ʋəlːəbːʰɑi dʒʰəʋeɾbʰɑi pəʈel]; ISO: Vallabhabhāī Jhāvērabhāī Paṭēla; 31 October 1875– 15 December 1950), commonly known as Sardar Vallabhbhai Patel,[a] was an Indian independence nationalist and barrister who served as the first Deputy Prime Minister and Home Minister of India from 1947 to 1950. He was a senior leader of the Indian National Congress, who played a significant role in the country's struggle for independence and its political integration.[1] In India and elsewhere, he was often called Sardar, meaning \"Chief\" in Hindi, Urdu, Bengali and Persian. He acted as the Home Minister during the political integration of India and the Indo-Pakistani War of 1947.[2]\n",
    "\n",
    "Patel was born in Nadiad, Kheda district and raised in the countryside of the state of Gujarat.[3] He was a successful lawyer. One of Mahatma Gandhi's earliest political lieutenants, he organised peasants from Kheda, Borsad and Bardoli in Gujarat in non-violent civil disobedience against the British Raj, becoming one of the most influential leaders in Gujarat. He was appointed as the 49th President of Indian National Congress. Under the chairmanship of Patel \"Fundamental Rights and Economic Policy\" resolution was passed by the Congress. Patel's position at the highest level in the Congress was largely connected with his role from 1934 onwards (when the Congress abandoned its boycott of elections) in the party organisation. Based at an apartment in Bombay, he became the Congress's main fundraiser and chairman of its Central Parliamentary Board, playing the leading role in selecting and financing candidates for the 1934 elections to the Central Legislative Assembly in New Delhi and for the provincial elections of 1936.[4] While promoting the Quit India Movement. Patel made a climactic speech to more than 100,000 people gathered at Gowalia Tank in Bombay on 7 August 1942. Historians believe that Patel's speech was instrumental in electrifying nationalists, who up to then had been sceptical of the proposed rebellion. Patel's organising work in this period is credited by historians with ensuring the success of the rebellion across India\n",
    "'''"
   ]
  },
  {
   "cell_type": "code",
   "execution_count": 4,
   "id": "ebf9a4b1",
   "metadata": {},
   "outputs": [
    {
     "data": {
      "text/plain": [
       "'\\nVallabhbhai Jhaverbhai Patel (Gujarati: [ʋəlːəbːʰɑi dʒʰəʋeɾbʰɑi pəʈel]; ISO: Vallabhabhāī Jhāvērabhāī Paṭēla; 31 October 1875– 15 December 1950), commonly known as Sardar Vallabhbhai Patel,[a] was an Indian independence nationalist and barrister who served as the first Deputy Prime Minister and Home Minister of India from 1947 to 1950. He was a senior leader of the Indian National Congress, who played a significant role in the country\\'s struggle for independence and its political integration.[1] In India and elsewhere, he was often called Sardar, meaning \"Chief\" in Hindi, Urdu, Bengali and Persian. He acted as the Home Minister during the political integration of India and the Indo-Pakistani War of 1947.[2]\\n\\nPatel was born in Nadiad, Kheda district and raised in the countryside of the state of Gujarat.[3] He was a successful lawyer. One of Mahatma Gandhi\\'s earliest political lieutenants, he organised peasants from Kheda, Borsad and Bardoli in Gujarat in non-violent civil disobedience against the British Raj, becoming one of the most influential leaders in Gujarat. He was appointed as the 49th President of Indian National Congress. Under the chairmanship of Patel \"Fundamental Rights and Economic Policy\" resolution was passed by the Congress. Patel\\'s position at the highest level in the Congress was largely connected with his role from 1934 onwards (when the Congress abandoned its boycott of elections) in the party organisation. Based at an apartment in Bombay, he became the Congress\\'s main fundraiser and chairman of its Central Parliamentary Board, playing the leading role in selecting and financing candidates for the 1934 elections to the Central Legislative Assembly in New Delhi and for the provincial elections of 1936.[4] While promoting the Quit India Movement. Patel made a climactic speech to more than 100,000 people gathered at Gowalia Tank in Bombay on 7 August 1942. Historians believe that Patel\\'s speech was instrumental in electrifying nationalists, who up to then had been sceptical of the proposed rebellion. Patel\\'s organising work in this period is credited by historians with ensuring the success of the rebellion across India\\n'"
      ]
     },
     "execution_count": 4,
     "metadata": {},
     "output_type": "execute_result"
    }
   ],
   "source": [
    "s1"
   ]
  },
  {
   "cell_type": "code",
   "execution_count": 5,
   "id": "37de5c69",
   "metadata": {},
   "outputs": [
    {
     "name": "stdout",
     "output_type": "stream",
     "text": [
      "\n",
      "Vallabhbhai Jhaverbhai Patel (Gujarati: [ʋəlːəbːʰɑi dʒʰəʋeɾbʰɑi pəʈel]; ISO: Vallabhabhāī Jhāvērabhāī Paṭēla; 31 October 1875– 15 December 1950), commonly known as Sardar Vallabhbhai Patel,[a] was an Indian independence nationalist and barrister who served as the first Deputy Prime Minister and Home Minister of India from 1947 to 1950. He was a senior leader of the Indian National Congress, who played a significant role in the country's struggle for independence and its political integration.[1] In India and elsewhere, he was often called Sardar, meaning \"Chief\" in Hindi, Urdu, Bengali and Persian. He acted as the Home Minister during the political integration of India and the Indo-Pakistani War of 1947.[2]\n",
      "\n",
      "Patel was born in Nadiad, Kheda district and raised in the countryside of the state of Gujarat.[3] He was a successful lawyer. One of Mahatma Gandhi's earliest political lieutenants, he organised peasants from Kheda, Borsad and Bardoli in Gujarat in non-violent civil disobedience against the British Raj, becoming one of the most influential leaders in Gujarat. He was appointed as the 49th President of Indian National Congress. Under the chairmanship of Patel \"Fundamental Rights and Economic Policy\" resolution was passed by the Congress. Patel's position at the highest level in the Congress was largely connected with his role from 1934 onwards (when the Congress abandoned its boycott of elections) in the party organisation. Based at an apartment in Bombay, he became the Congress's main fundraiser and chairman of its Central Parliamentary Board, playing the leading role in selecting and financing candidates for the 1934 elections to the Central Legislative Assembly in New Delhi and for the provincial elections of 1936.[4] While promoting the Quit India Movement. Patel made a climactic speech to more than 100,000 people gathered at Gowalia Tank in Bombay on 7 August 1942. Historians believe that Patel's speech was instrumental in electrifying nationalists, who up to then had been sceptical of the proposed rebellion. Patel's organising work in this period is credited by historians with ensuring the success of the rebellion across India\n",
      "\n"
     ]
    }
   ],
   "source": [
    "print(s1)"
   ]
  },
  {
   "cell_type": "code",
   "execution_count": 6,
   "id": "5c00568a",
   "metadata": {},
   "outputs": [
    {
     "data": {
      "text/plain": [
       "'\\nI am Nensi\\n'"
      ]
     },
     "execution_count": 6,
     "metadata": {},
     "output_type": "execute_result"
    }
   ],
   "source": [
    "'''\n",
    "I am Nensi\n",
    "'''\n",
    "# multiline comment"
   ]
  },
  {
   "cell_type": "code",
   "execution_count": 7,
   "id": "4b476356",
   "metadata": {},
   "outputs": [
    {
     "name": "stdout",
     "output_type": "stream",
     "text": [
      "retired\n"
     ]
    }
   ],
   "source": [
    "age = 80\n",
    "if age >=65:\n",
    "    print(\"retired\")\n",
    "    \n",
    "elif age>=18:\n",
    "    print(\"voter\")\n",
    "else:\n",
    "    print(\"Minor\")"
   ]
  },
  {
   "cell_type": "code",
   "execution_count": 8,
   "id": "84404d8a",
   "metadata": {},
   "outputs": [
    {
     "name": "stdout",
     "output_type": "stream",
     "text": [
      "retired\n",
      "voter\n"
     ]
    }
   ],
   "source": [
    "age = 80\n",
    "if age >=65:\n",
    "    print(\"retired\")  \n",
    "if age>=18:\n",
    "    print(\"voter\")\n",
    "else:\n",
    "    print(\"Minor\")"
   ]
  },
  {
   "cell_type": "markdown",
   "id": "a6d0fca4",
   "metadata": {},
   "source": [
    "<h2> and or"
   ]
  },
  {
   "cell_type": "code",
   "execution_count": 9,
   "id": "2e717585",
   "metadata": {},
   "outputs": [
    {
     "name": "stdout",
     "output_type": "stream",
     "text": [
      "block\n"
     ]
    }
   ],
   "source": [
    "batch = \"python\"\n",
    "org = \"scaler\"\n",
    "\n",
    "if org == \"scaler\" and batch == \"java\":\n",
    "    print(\"allowed\")\n",
    "else:\n",
    "    print(\"block\")"
   ]
  },
  {
   "cell_type": "code",
   "execution_count": 10,
   "id": "acc09157",
   "metadata": {},
   "outputs": [
    {
     "name": "stdout",
     "output_type": "stream",
     "text": [
      "allowed\n"
     ]
    }
   ],
   "source": [
    "batch = \"python\"\n",
    "org = \"scaler\"\n",
    "\n",
    "if org == \"scaler\" or batch == \"java\":\n",
    "    print(\"allowed\")\n",
    "else:\n",
    "    print(\"block\")"
   ]
  },
  {
   "cell_type": "markdown",
   "id": "19dc8a85",
   "metadata": {},
   "source": [
    "<h2> Loops"
   ]
  },
  {
   "cell_type": "markdown",
   "id": "01045267",
   "metadata": {},
   "source": [
    "<h3> While loop"
   ]
  },
  {
   "cell_type": "code",
   "execution_count": 11,
   "id": "d7314574",
   "metadata": {},
   "outputs": [
    {
     "name": "stdout",
     "output_type": "stream",
     "text": [
      "1 2 3 4 5 6 7 8 9 10 11 12 13 14 15 16 17 18 19 20 21 22 23 24 25 26 27 28 29 30 31 32 33 34 35 36 37 38 39 40 41 42 43 44 45 46 47 48 49 50 51 52 53 54 55 56 57 58 59 60 61 62 63 64 65 66 67 68 69 70 71 72 73 74 75 76 77 78 79 80 81 82 83 84 85 86 87 88 89 90 91 92 93 94 95 96 97 98 99 100 "
     ]
    }
   ],
   "source": [
    "counter = 1\n",
    "while counter <= 100:\n",
    "    print(counter, end= \" \")\n",
    "    counter = counter + 1"
   ]
  },
  {
   "cell_type": "code",
   "execution_count": 12,
   "id": "302c83bc",
   "metadata": {},
   "outputs": [],
   "source": [
    "a = 2\n",
    "a = a+5"
   ]
  },
  {
   "cell_type": "code",
   "execution_count": 13,
   "id": "54386e5c",
   "metadata": {},
   "outputs": [
    {
     "data": {
      "text/plain": [
       "7"
      ]
     },
     "execution_count": 13,
     "metadata": {},
     "output_type": "execute_result"
    }
   ],
   "source": [
    "a = 2\n",
    "a+=5\n",
    "a"
   ]
  },
  {
   "cell_type": "code",
   "execution_count": 19,
   "id": "a737d011",
   "metadata": {},
   "outputs": [
    {
     "name": "stdout",
     "output_type": "stream",
     "text": [
      "Hello Hello Hello Hello Hello \n"
     ]
    }
   ],
   "source": [
    "print(\"Hello \"*5)"
   ]
  },
  {
   "cell_type": "markdown",
   "id": "1c1328a6",
   "metadata": {},
   "source": [
    "<h3> Stair Pattern "
   ]
  },
  {
   "cell_type": "markdown",
   "id": "c3307492",
   "metadata": {},
   "source": [
    "<h3>\n",
    "    * <br>\n",
    "    ** <br>\n",
    "    *** <br>\n",
    "    **** <br>"
   ]
  },
  {
   "cell_type": "code",
   "execution_count": 20,
   "id": "415a3ed2",
   "metadata": {},
   "outputs": [
    {
     "name": "stdout",
     "output_type": "stream",
     "text": [
      "5\n",
      "* \n",
      "* * \n",
      "* * * \n",
      "* * * * \n",
      "* * * * * \n"
     ]
    }
   ],
   "source": [
    "n = int(input())\n",
    "i = 1\n",
    "while i<=n:\n",
    "    print(\"* \" * i)\n",
    "    i += 1"
   ]
  },
  {
   "cell_type": "code",
   "execution_count": 50,
   "id": "c7ecdd2d",
   "metadata": {},
   "outputs": [
    {
     "name": "stdout",
     "output_type": "stream",
     "text": [
      "1 2 3 4 \n",
      "\n",
      "1 2 3 \n",
      "\n",
      "1 2 \n",
      "\n",
      "1 \n",
      "\n"
     ]
    }
   ],
   "source": [
    "for i in range(4,0,-1):\n",
    "    for j in range(1,i+1):\n",
    "        print(j, end=' ')\n",
    "    print(\"\\n\")  "
   ]
  },
  {
   "cell_type": "markdown",
   "id": "22963d77",
   "metadata": {},
   "source": [
    "## 0 0 0 1 0 0 0\n",
    "## 0 0 2 3 2 0 0\n",
    "## 0 3 2 1 2 3 0\n",
    "## 4 3 2 1 2 3 4"
   ]
  },
  {
   "cell_type": "code",
   "execution_count": 5,
   "id": "ea91bd71",
   "metadata": {},
   "outputs": [
    {
     "name": "stdout",
     "output_type": "stream",
     "text": [
      "0001000\n",
      "002300\n",
      "034540\n",
      "456765\n"
     ]
    }
   ],
   "source": [
    "n = 4\n",
    "for i in range(1, n + 1):\n",
    "    print(\"0\" * (n - i), end=\"\")\n",
    "    for j in range(i, 2 * i):\n",
    "        print(j, end=\"\")\n",
    "    for j in range(2 * i - 2, i, -1):\n",
    "        print(j, end=\"\")\n",
    "    print(\"0\" * (n - i))\n"
   ]
  },
  {
   "cell_type": "markdown",
   "id": "6e89d9f4",
   "metadata": {},
   "source": [
    "<h2> Range Method"
   ]
  },
  {
   "cell_type": "code",
   "execution_count": 21,
   "id": "49d3a3cc",
   "metadata": {},
   "outputs": [
    {
     "data": {
      "text/plain": [
       "range(0, 10)"
      ]
     },
     "execution_count": 21,
     "metadata": {},
     "output_type": "execute_result"
    }
   ],
   "source": [
    "range(10)"
   ]
  },
  {
   "cell_type": "code",
   "execution_count": 22,
   "id": "02352691",
   "metadata": {},
   "outputs": [
    {
     "data": {
      "text/plain": [
       "[0, 1, 2, 3, 4, 5, 6, 7, 8, 9]"
      ]
     },
     "execution_count": 22,
     "metadata": {},
     "output_type": "execute_result"
    }
   ],
   "source": [
    "list(range(10))"
   ]
  },
  {
   "cell_type": "code",
   "execution_count": 23,
   "id": "5877c297",
   "metadata": {},
   "outputs": [
    {
     "data": {
      "text/plain": [
       "[2, 3, 4, 5, 6, 7, 8, 9, 10]"
      ]
     },
     "execution_count": 23,
     "metadata": {},
     "output_type": "execute_result"
    }
   ],
   "source": [
    "list(range(2,11))"
   ]
  },
  {
   "cell_type": "code",
   "execution_count": 24,
   "id": "5059d298",
   "metadata": {},
   "outputs": [
    {
     "data": {
      "text/plain": [
       "[0, 2, 4, 6, 8, 10]"
      ]
     },
     "execution_count": 24,
     "metadata": {},
     "output_type": "execute_result"
    }
   ],
   "source": [
    "list(range(0,11,2))"
   ]
  },
  {
   "cell_type": "code",
   "execution_count": 30,
   "id": "64056691",
   "metadata": {},
   "outputs": [
    {
     "data": {
      "text/plain": [
       "[9, 7, 5, 3, 1]"
      ]
     },
     "execution_count": 30,
     "metadata": {},
     "output_type": "execute_result"
    }
   ],
   "source": [
    "list(range (9,0,-2))"
   ]
  },
  {
   "cell_type": "markdown",
   "id": "563a3ba3",
   "metadata": {},
   "source": [
    "<h2> For loop"
   ]
  },
  {
   "cell_type": "markdown",
   "id": "91afd4ea",
   "metadata": {},
   "source": [
    "<h3> It allows us to loop/iterate over a range <br>\n",
    "  "
   ]
  },
  {
   "cell_type": "code",
   "execution_count": 26,
   "id": "88ae824c",
   "metadata": {},
   "outputs": [
    {
     "name": "stdout",
     "output_type": "stream",
     "text": [
      "1 3 5 7 9 "
     ]
    }
   ],
   "source": [
    "# Print odd numbers from 1 t0 10\n",
    "\n",
    "for i in range(1,10,2):\n",
    "    print(i, end = \" \")"
   ]
  },
  {
   "cell_type": "code",
   "execution_count": 27,
   "id": "6124db8e",
   "metadata": {},
   "outputs": [
    {
     "name": "stdout",
     "output_type": "stream",
     "text": [
      "729 343 125 27 1 "
     ]
    }
   ],
   "source": [
    "# Print the cubes of all odd numbers from 9 to 1\n",
    "\n",
    "for i in range(9,0,-2):\n",
    "    print(i**3, end = \" \")"
   ]
  },
  {
   "cell_type": "code",
   "execution_count": 31,
   "id": "99b989c2",
   "metadata": {},
   "outputs": [
    {
     "name": "stdout",
     "output_type": "stream",
     "text": [
      "H\n",
      "e\n",
      "l\n",
      "l\n",
      "o\n",
      " \n",
      "W\n",
      "o\n",
      "r\n",
      "l\n",
      "d\n"
     ]
    }
   ],
   "source": [
    "for c in \"Hello World\":\n",
    "    print(c)"
   ]
  },
  {
   "cell_type": "markdown",
   "id": "96580746",
   "metadata": {},
   "source": [
    "## Problem - Sum of Digits"
   ]
  },
  {
   "cell_type": "code",
   "execution_count": 37,
   "id": "e31327ff",
   "metadata": {},
   "outputs": [
    {
     "name": "stdout",
     "output_type": "stream",
     "text": [
      "56\n",
      "11\n"
     ]
    }
   ],
   "source": [
    "# Input : 794\n",
    "# Output : 20\n",
    "\n",
    "n = int(input())\n",
    "Sum = 0\n",
    "while n>0:\n",
    "    digit = n % 10\n",
    "    Sum += digit\n",
    "    n = n //10\n",
    "print(Sum)    "
   ]
  },
  {
   "cell_type": "code",
   "execution_count": null,
   "id": "e10e56cb",
   "metadata": {},
   "outputs": [],
   "source": []
  }
 ],
 "metadata": {
  "kernelspec": {
   "display_name": "Python 3 (ipykernel)",
   "language": "python",
   "name": "python3"
  },
  "language_info": {
   "codemirror_mode": {
    "name": "ipython",
    "version": 3
   },
   "file_extension": ".py",
   "mimetype": "text/x-python",
   "name": "python",
   "nbconvert_exporter": "python",
   "pygments_lexer": "ipython3",
   "version": "3.10.9"
  }
 },
 "nbformat": 4,
 "nbformat_minor": 5
}
